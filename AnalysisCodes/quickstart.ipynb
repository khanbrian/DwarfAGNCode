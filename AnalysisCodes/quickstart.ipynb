{
 "cells": [
  {
   "cell_type": "code",
   "execution_count": 1,
   "id": "c365f969-8768-41aa-ad80-3807be122a1f",
   "metadata": {},
   "outputs": [],
   "source": [
    "import fsps\n",
    "import dynesty\n",
    "import sedpy\n",
    "import h5py, astropy\n",
    "import numpy as np\n",
    "import astroquery"
   ]
  },
  {
   "cell_type": "code",
   "execution_count": 2,
   "id": "19366aa2-d843-4d73-b3d1-8a3cbef0a5b2",
   "metadata": {},
   "outputs": [
    {
     "name": "stdout",
     "output_type": "stream",
     "text": [
      "Collecting package metadata (current_repodata.json): done\n",
      "Solving environment: done\n",
      "\n",
      "## Package Plan ##\n",
      "\n",
      "  environment location: /Users/brian/opt/anaconda3/envs/dagn37\n",
      "\n",
      "  added / updated specs:\n",
      "    - astroquery\n",
      "\n",
      "\n",
      "The following packages will be downloaded:\n",
      "\n",
      "    package                    |            build\n",
      "    ---------------------------|-----------------\n",
      "    astropy-4.3.1              |   py37h032687b_2         7.7 MB  astropy\n",
      "    astroquery-0.4.6           |     pyhd8ed1ab_0         3.8 MB  astropy\n",
      "    html5lib-1.1               |     pyhd3eb1b0_0          91 KB\n",
      "    keyring-23.4.0             |   py37hecd8cb5_0          55 KB\n",
      "    pyerfa-2.0.0.1             |   py37h49e79e5_2         470 KB  astropy\n",
      "    python-mimeparse-1.6.0     |             py_1           7 KB  astropy\n",
      "    pyvo-1.2.1                 |     pyhd8ed1ab_0         735 KB  astropy\n",
      "    ------------------------------------------------------------\n",
      "                                           Total:        12.8 MB\n",
      "\n",
      "The following NEW packages will be INSTALLED:\n",
      "\n",
      "  astropy            astropy/osx-64::astropy-4.3.1-py37h032687b_2 None\n",
      "  astroquery         astropy/noarch::astroquery-0.4.6-pyhd8ed1ab_0 None\n",
      "  html5lib           pkgs/main/noarch::html5lib-1.1-pyhd3eb1b0_0 None\n",
      "  importlib_metadata pkgs/main/noarch::importlib_metadata-4.11.3-hd3eb1b0_0 None\n",
      "  keyring            pkgs/main/osx-64::keyring-23.4.0-py37hecd8cb5_0 None\n",
      "  pyerfa             astropy/osx-64::pyerfa-2.0.0.1-py37h49e79e5_2 None\n",
      "  python-mimeparse   astropy/noarch::python-mimeparse-1.6.0-py_1 None\n",
      "  pyvo               astropy/noarch::pyvo-1.2.1-pyhd8ed1ab_0 None\n",
      "\n",
      "The following packages will be UPDATED:\n",
      "\n",
      "  ca-certificates    conda-forge::ca-certificates-2022.9.2~ --> pkgs/main::ca-certificates-2022.10.11-hecd8cb5_0 None\n",
      "\n",
      "The following packages will be SUPERSEDED by a higher-priority channel:\n",
      "\n",
      "  certifi            conda-forge/noarch::certifi-2022.9.24~ --> pkgs/main/osx-64::certifi-2022.9.24-py37hecd8cb5_0 None\n",
      "  importlib-metadata conda-forge::importlib-metadata-4.11.~ --> pkgs/main::importlib-metadata-4.11.3-py37hecd8cb5_0 None\n",
      "  openssl            conda-forge::openssl-1.1.1s-hfd90126_0 --> pkgs/main::openssl-1.1.1s-hca72f7f_0 None\n",
      "\n",
      "\n",
      "\n",
      "Downloading and Extracting Packages\n",
      "astroquery-0.4.6     | 3.8 MB    | ##################################### | 100% \n",
      "astropy-4.3.1        | 7.7 MB    | ##################################### | 100% \n",
      "pyvo-1.2.1           | 735 KB    | ##################################### | 100% \n",
      "html5lib-1.1         | 91 KB     | ##################################### | 100% \n",
      "pyerfa-2.0.0.1       | 470 KB    | ##################################### | 100% \n",
      "python-mimeparse-1.6 | 7 KB      | ##################################### | 100% \n",
      "keyring-23.4.0       | 55 KB     | ##################################### | 100% \n",
      "Preparing transaction: done\n",
      "Verifying transaction: done\n",
      "Executing transaction: done\n",
      "Retrieving notices: ...working... done\n",
      "\n",
      "Note: you may need to restart the kernel to use updated packages.\n"
     ]
    }
   ],
   "source": []
  },
  {
   "cell_type": "code",
   "execution_count": null,
   "id": "6cd65828-1bca-4daf-915a-a8d86bf355e4",
   "metadata": {},
   "outputs": [],
   "source": []
  }
 ],
 "metadata": {
  "kernelspec": {
   "display_name": "Python 3",
   "language": "python",
   "name": "python3"
  },
  "language_info": {
   "codemirror_mode": {
    "name": "ipython",
    "version": 3
   },
   "file_extension": ".py",
   "mimetype": "text/x-python",
   "name": "python",
   "nbconvert_exporter": "python",
   "pygments_lexer": "ipython3",
   "version": "3.7.13"
  }
 },
 "nbformat": 4,
 "nbformat_minor": 5
}
