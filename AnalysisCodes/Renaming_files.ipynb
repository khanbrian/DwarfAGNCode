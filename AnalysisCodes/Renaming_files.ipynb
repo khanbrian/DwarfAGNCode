{
 "cells": [
  {
   "cell_type": "code",
   "execution_count": 2,
   "id": "6ba3d048-e648-480f-9799-eb16f6f19b2d",
   "metadata": {},
   "outputs": [],
   "source": [
    "import time, sys, os\n",
    "import h5py\n",
    "import numpy as np\n",
    "import scipy\n",
    "from scipy import stats\n",
    "import astropy\n",
    "from astropy.cosmology import WMAP9 as cosmo\n",
    "from matplotlib.pyplot import *\n",
    "import matplotlib.pyplot as plt\n",
    "import fsps\n",
    "import sedpy\n",
    "import prospect\n",
    "import emcee\n",
    "import dynesty\n",
    "from prospect.models import priors\n",
    "from prospect.models.templates import TemplateLibrary\n",
    "from prospect.likelihood import lnlike_spec, lnlike_phot, write_log\n",
    "from prospect.likelihood import chi_spec, chi_phot\n",
    "from prospect.fitting import lnprobfn\n",
    "from prospect.fitting import fit_model\n",
    "from prospect.io import write_results as writer\n",
    "from prospect import prospect_args\n",
    "import prospect.io.read_results as reader\n",
    "from multiprocessing import Pool\n",
    "import subprocess\n",
    "import pickle\n",
    "home_dir = '/Users/brian/Library/CloudStorage/OneDrive-UniversityofHertfordshire/DwarfAGN'\n",
    "cl_dir = '/beegfs/car/bbichanga/DwarfAGN'\n",
    "\n",
    "dir_pick = [home_dir,cl_dir]\n",
    "dir_pick = dir_pick[0]\n",
    "\n",
    "cosmos = astropy.io.fits.open(dir_pick+'/COSMOS2020_FARMER_R1_v2.1_p3.fits',memmap=True)"
   ]
  },
  {
   "cell_type": "code",
   "execution_count": 3,
   "id": "bda70dad-6e9b-4cd0-b2e8-1f6886a7a2af",
   "metadata": {},
   "outputs": [],
   "source": [
    "cosmos_dat = cosmos[1].data"
   ]
  },
  {
   "cell_type": "code",
   "execution_count": 4,
   "id": "9daa810a-06aa-451e-8a55-7aa2f6ce1f4d",
   "metadata": {},
   "outputs": [],
   "source": [
    "dire = '/Users/brian/Library/CloudStorage/OneDrive-UniversityofHertfordshire/DwarfAGN/dwarf_agn/emcee1/' # my data\n"
   ]
  },
  {
   "cell_type": "code",
   "execution_count": 27,
   "id": "d43f47fc-6ab9-42fc-aa28-c4d5432027a9",
   "metadata": {},
   "outputs": [],
   "source": [
    "dwarf_picker = np.where((cosmos_dat['lp_zPDF_l68'] > 0.1) & (cosmos_dat['lp_zPDF_u68'] < 0.25) & (cosmos_dat['lp_zPDF_l68'] > 0.1) & (cosmos_dat['lp_mass_med_max68'] < 9.5)\n",
    "                        & (cosmos_dat['lp_mass_med_min68'] > 8.))[0]"
   ]
  },
  {
   "cell_type": "code",
   "execution_count": 28,
   "id": "f1778cb0-0d91-4014-89d9-991e573bdb15",
   "metadata": {},
   "outputs": [
    {
     "data": {
      "text/plain": [
       "774350"
      ]
     },
     "execution_count": 28,
     "metadata": {},
     "output_type": "execute_result"
    }
   ],
   "source": [
    "cosmos_dat['ID'][dwarf_picker][3103]"
   ]
  },
  {
   "cell_type": "code",
   "execution_count": 29,
   "id": "00d45d65-bcd1-41a7-9ffd-6f7bba2faf21",
   "metadata": {
    "tags": []
   },
   "outputs": [
    {
     "name": "stdout",
     "output_type": "stream",
     "text": [
      "gal_4638_post_pcts.npy\n"
     ]
    }
   ],
   "source": [
    "import prospect.io.read_results as reader\n",
    "import numpy as np\n",
    "from scipy.special import gamma, gammainc\n",
    "from prospect.plotting.corner import quantile\n",
    "import re\n",
    "results_type = \"emcee\"\n",
    "import os\n",
    "\n",
    "directory = os.fsencode(dire)\n",
    "import pandas as pd\n",
    "columns = ['mass', 'dust', 'tage', 'tau', 'fagn', 'agn_tau', 'duste_umin', 'duste_qpah', 'duste_gamma','mass16', 'dust16', 'tage16', 'tau16', 'fagn16', 'agn_tau16', 'duste_umin16', 'duste_qpah16', 'duste_gamma16', 'psi', 'psi1']\n",
    "keey = []\n",
    "\n",
    "\n",
    "for file in os.listdir(directory):\n",
    "    filename = os.fsdecode(file)\n",
    "    f  = [int(s) for s in filename.split('_') if s.isdigit()]\n",
    "    # print(f, filename)\n",
    "    try:\n",
    "        f  = [int(s) for s in filename.split('_') if s.isdigit()]\n",
    "        # print(f)\n",
    "        new_string = re.sub('%s'%(f[0]), '%s' %(cosmos_dat['ID'][dwarf_picker][f][0]), filename)\n",
    "        keey.append([f[0],cosmos_dat['ID'][dwarf_picker][f][0]])\n",
    "    except:\n",
    "        f  = [int(s) for s in filename if s.isdigit()]\n",
    "        a = map(str, f)    \n",
    "        b = ''.join(a) \n",
    "        # c =int(b)\n",
    "        f = []\n",
    "        f = f.append(b)\n",
    "        new_string = re.sub('%s'%(f) , '%s' %(cosmos_dat['ID'][dwarf_picker][f][0]), filename)\n",
    "    \n",
    "    # os.rename(filename, new_string)\n",
    "print(new_string)"
   ]
  },
  {
   "cell_type": "code",
   "execution_count": null,
   "id": "805f7dbf-6489-4b27-9b9a-b7055c65e8ef",
   "metadata": {},
   "outputs": [],
   "source": [
    "import prospect.io.read_results as reader\n",
    "import numpy as np\n",
    "from scipy.special import gamma, gammainc\n",
    "from prospect.plotting.corner import quantile\n",
    "    \n",
    "results_type = \"emcee\"\n",
    "import os\n",
    "\n",
    "directory = os.fsencode(dire)\n",
    "import pandas as pd\n",
    "columns = ['mass', 'dust', 'tage', 'tau', 'fagn', 'agn_tau', 'duste_umin', 'duste_qpah', 'duste_gamma','mass16', 'dust16', 'tage16', 'tau16', 'fagn16', 'agn_tau16', 'duste_umin16', 'duste_qpah16', 'duste_gamma16', 'psi', 'psi1']\n",
    "a = []\n",
    "\n",
    "\n",
    "for file in os.listdir(directory):\n",
    "    filename = os.fsdecode(file)\n",
    "    f  = [int(s) for s in filename.split('_') if s.isdigit()]\n",
    "    if filename.endswith(\".h5\") and len(filename)>23 and f[0] in arr: \n",
    "        try:\n",
    "            result, obs, model  = reader.results_from(os.path.join(dire, filename), dangerous=False)\n",
    "\n",
    "            # Maximum posterior probability sample\n",
    "            imax = np.argmax(result['lnprobability'])\n",
    "            csz = result[\"chain\"].shape\n",
    "            # if result[\"chain\"].ndim > 2:\n",
    "            # emcee\n",
    "            i, j = np.unravel_index(imax, result['lnprobability'].shape)\n",
    "            theta_max = result['chain'][i, j, :].copy()\n",
    "            flatchain = result[\"chain\"].reshape(csz[0] * csz[1], csz[2])\n",
    "            #         else:\n",
    "            #     # dynesty\n",
    "            # theta_max = result['chain'][imax, :].copy()\n",
    "            # flatchain = result[\"chain\"]\n",
    "\n",
    "            # 16th, 50th, and 84th percentiles of the posterior\n",
    "\n",
    "            weights = result.get(\"weights\", None)\n",
    "\n",
    "            post_pcts = np.median(flatchain.T,axis=1)\n",
    "            post_pcts16 = quantile(flatchain.T, q=[0.16, 0.50, 0.84], weights=weights)\n",
    "\n",
    "            #----------------------------------------------------------------------------------------\n",
    "            mass, dust, tage, tau, fagn, agn_tau, duste_umin, duste_qpah, duste_gamma = post_pcts[0],post_pcts[1],post_pcts[2],post_pcts[3],post_pcts[4],post_pcts[5],post_pcts[6],post_pcts[7],post_pcts[8]\n",
    "            mass16, dust16, tage16, tau16, fagn16, agn_tau16, duste_umin16, duste_qpah16, duste_gamma16 = post_pcts16[0,0],post_pcts16[1,0],post_pcts16[2,0],post_pcts16[3,0],post_pcts16[4,0],post_pcts16[5,0],post_pcts16[6,0],post_pcts16[7,0],post_pcts16[8,0]\n",
    "            #----------------------------------------------------------------------------------------\n",
    "            #We calculate the star formation rate:\n",
    "\n",
    "            tage, tau, mass = post_pcts[2], post_pcts[3], post_pcts[0]\n",
    "            # for delay tau this function gives the (unnormalized) SFR \n",
    "            # for any t, tau combo in M_sun/Gyr\n",
    "            # sfr = lambda t,tau: return (t/tau) * np.exp(-t/tau)\n",
    "\n",
    "            sfr = lambda t,tau:(t/tau) * np.exp(-t/tau)\n",
    "            # now we numerically integrate this SFH from 0 to tage to get the mass formed\n",
    "            times = np.linspace(0, tage, 1000)\n",
    "            A = np.trapz(sfr(times, tau), times)\n",
    "            # But this could also be done using an incomplete gamma function (integral of xe^{-x})\n",
    "            A = tau * gamma(2) * gammainc(2, tage/tau)\n",
    "            # and now we renormalize the formed mass to the actual mass value \n",
    "            # to get the the SFR in M_sun per Gyr \n",
    "            psi = mass * sfr(tage, tau) / A\n",
    "            # if we want SFR in Msun/year\n",
    "            psi1 = psi/1e9\n",
    "\n",
    "            row = mass, dust, tage, tau, fagn, agn_tau, duste_umin, duste_qpah, duste_gamma,mass16, dust16, tage16, tau16, fagn16, agn_tau16, duste_umin16, duste_qpah16, duste_gamma16, psi, psi1,\n",
    "            a.append(row)\n",
    "        except:\n",
    "            print(filename)\n",
    "            \n",
    "    \n",
    "df = pd.DataFrame(a,columns=columns)\n",
    "\n"
   ]
  },
  {
   "cell_type": "code",
   "execution_count": null,
   "id": "f5fd2e21-f03d-439b-b6f6-28954ea2574b",
   "metadata": {},
   "outputs": [],
   "source": []
  }
 ],
 "metadata": {
  "kernelspec": {
   "display_name": "Python 3",
   "language": "python",
   "name": "python3"
  },
  "language_info": {
   "codemirror_mode": {
    "name": "ipython",
    "version": 3
   },
   "file_extension": ".py",
   "mimetype": "text/x-python",
   "name": "python",
   "nbconvert_exporter": "python",
   "pygments_lexer": "ipython3",
   "version": "3.7.13"
  }
 },
 "nbformat": 4,
 "nbformat_minor": 5
}
