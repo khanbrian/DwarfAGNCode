{
 "cells": [
  {
   "cell_type": "markdown",
   "id": "23afecbc-a8ed-4abc-b945-2e810bcb49d0",
   "metadata": {},
   "source": [
    "## This notebook creates a table with all the outputs from prospector and the calculates SFR\n",
    " date: 21-nov-2022"
   ]
  },
  {
   "cell_type": "code",
   "execution_count": 1,
   "id": "05d1f795-951b-4d84-8304-56033c46fb30",
   "metadata": {},
   "outputs": [],
   "source": [
    "dire = '/Users/brian/Library/CloudStorage/OneDrive-UniversityofHertfordshire/DwarfAGN/dwarf_agn/emcee3/' # my data\n",
    "# dire = '/Users/brian/Documents/Hertfordshire/dwarf_agn/emcee/' # Ryan's data\n"
   ]
  },
  {
   "cell_type": "markdown",
   "id": "2cf4f07b-6bb4-4e8e-9364-5d171a628ee4",
   "metadata": {},
   "source": [
    "The first step is to read in the results into a pandas dataframe, the same can be achieved using the pickle results saved as npy, check these later and compare?\n",
    "\n",
    "## Getting the Star Formation Rate:\n",
    "Obtaining the star formation rate requires an estimate of the tage, tau and mass, The star formation rate is the area under the curve of tage and tau, within the mass range of the galaxy in question. For our case we estimate the star formation rate of one of the galaxies in our result.\n"
   ]
  },
  {
   "cell_type": "code",
   "execution_count": 2,
   "id": "bffad91b-9b47-4823-af6f-134fe854acbd",
   "metadata": {},
   "outputs": [],
   "source": [
    "from dateutil.parser import parse\n",
    "\n",
    "def is_date(string, fuzzy=False):\n",
    "    \"\"\"\n",
    "    Return whether the string can be interpreted as a date.\n",
    "\n",
    "    :param string: str, string to check for date\n",
    "    :param fuzzy: bool, ignore unknown tokens in string if True\n",
    "    \"\"\"\n",
    "    try: \n",
    "        string = string.replace(\"_\", \"-\")\n",
    "        # print(string)\n",
    "        parse(string, fuzzy=fuzzy)\n",
    "        return True\n",
    "\n",
    "    except ValueError:\n",
    "        return False\n"
   ]
  },
  {
   "cell_type": "code",
   "execution_count": 3,
   "id": "3eb26923-a964-4938-8244-b8b5b9b92b42",
   "metadata": {},
   "outputs": [
    {
     "data": {
      "text/plain": [
       "23"
      ]
     },
     "execution_count": 3,
     "metadata": {},
     "output_type": "execute_result"
    }
   ],
   "source": [
    "filename = 'gal-51538-emcee-mcmc.h5'\n",
    "len(filename)"
   ]
  },
  {
   "cell_type": "code",
   "execution_count": 4,
   "id": "3c0cb8d6-64eb-4a8e-ba9f-0b4c3171e531",
   "metadata": {},
   "outputs": [],
   "source": [
    "import os\n",
    "import numpy as np\n",
    "FittedGalaxies = []\n",
    "for file in os.listdir(dire):\n",
    "    filename = os.fsdecode(file) \n",
    "    if len(filename)>23:\n",
    "        f  = [int(s) for s in filename.split('_') if s.isdigit()]\n",
    "        FittedGalaxies.append(f[0])\n",
    "    # print(f)\n",
    "arr = np.asarray(FittedGalaxies)"
   ]
  },
  {
   "cell_type": "code",
   "execution_count": 5,
   "id": "0ebb3390-081a-4866-8de4-e048547b9a64",
   "metadata": {},
   "outputs": [
    {
     "data": {
      "text/plain": [
       "666"
      ]
     },
     "execution_count": 5,
     "metadata": {},
     "output_type": "execute_result"
    }
   ],
   "source": [
    "len(arr)"
   ]
  },
  {
   "cell_type": "code",
   "execution_count": 6,
   "id": "49634582-5677-4073-9fdb-b3cae5237a8c",
   "metadata": {
    "tags": []
   },
   "outputs": [],
   "source": [
    "import prospect.io.read_results as reader\n",
    "import numpy as np\n",
    "from scipy.special import gamma, gammainc\n",
    "from prospect.plotting.corner import quantile\n",
    "    \n",
    "results_type = \"emcee\"\n",
    "import os\n",
    "\n",
    "directory = os.fsencode(dire)\n",
    "import pandas as pd\n",
    "columns = ['mass', 'dust', 'tage', 'tau', 'fagn', 'agn_tau', 'duste_umin', 'duste_qpah', 'duste_gamma','mass16', 'dust16', 'tage16', 'tau16', 'fagn16', 'agn_tau16', 'duste_umin16', 'duste_qpah16', 'duste_gamma16', 'psi', 'psi1']\n",
    "a = []\n",
    "\n",
    "\n",
    "for file in os.listdir(directory):\n",
    "    filename = os.fsdecode(file)\n",
    "    f  = [int(s) for s in filename.split('_') if s.isdigit()]\n",
    "    if filename.endswith(\".h5\") and len(filename)<=23 and f[0] in arr: \n",
    "        try:\n",
    "            result, obs, model  = reader.results_from(os.path.join(dire, filename), dangerous=False)\n",
    "\n",
    "            # Maximum posterior probability sample\n",
    "            imax = np.argmax(result['lnprobability'])\n",
    "            csz = result[\"chain\"].shape\n",
    "            # if result[\"chain\"].ndim > 2:\n",
    "            # emcee\n",
    "            i, j = np.unravel_index(imax, result['lnprobability'].shape)\n",
    "            theta_max = result['chain'][i, j, :].copy()\n",
    "            flatchain = result[\"chain\"].reshape(csz[0] * csz[1], csz[2])\n",
    "            #         else:\n",
    "            #     # dynesty\n",
    "            # theta_max = result['chain'][imax, :].copy()\n",
    "            # flatchain = result[\"chain\"]\n",
    "\n",
    "            # 16th, 50th, and 84th percentiles of the posterior\n",
    "\n",
    "            weights = result.get(\"weights\", None)\n",
    "\n",
    "            post_pcts = np.median(flatchain.T,axis=1)\n",
    "            post_pcts16 = quantile(flatchain.T, q=[0.16, 0.50, 0.84], weights=weights)\n",
    "\n",
    "            #----------------------------------------------------------------------------------------\n",
    "            mass, dust, tage, tau, fagn, agn_tau, duste_umin, duste_qpah, duste_gamma = post_pcts[0],post_pcts[1],post_pcts[2],post_pcts[3],post_pcts[4],post_pcts[5],post_pcts[6],post_pcts[7],post_pcts[8]\n",
    "            mass16, dust16, tage16, tau16, fagn16, agn_tau16, duste_umin16, duste_qpah16, duste_gamma16 = post_pcts16[0,0],post_pcts16[1,0],post_pcts16[2,0],post_pcts16[3,0],post_pcts16[4,0],post_pcts16[5,0],post_pcts16[6,0],post_pcts16[7,0],post_pcts16[8,0]\n",
    "            #----------------------------------------------------------------------------------------\n",
    "            #We calculate the star formation rate:\n",
    "\n",
    "            tage, tau, mass = post_pcts[2], post_pcts[3], post_pcts[0]\n",
    "            # for delay tau this function gives the (unnormalized) SFR \n",
    "            # for any t, tau combo in M_sun/Gyr\n",
    "            # sfr = lambda t,tau: return (t/tau) * np.exp(-t/tau)\n",
    "\n",
    "            sfr = lambda t,tau:(t/tau) * np.exp(-t/tau)\n",
    "            # now we numerically integrate this SFH from 0 to tage to get the mass formed\n",
    "            times = np.linspace(0, tage, 1000)\n",
    "            A = np.trapz(sfr(times, tau), times)\n",
    "            # But this could also be done using an incomplete gamma function (integral of xe^{-x})\n",
    "            A = tau * gamma(2) * gammainc(2, tage/tau)\n",
    "            # and now we renormalize the formed mass to the actual mass value \n",
    "            # to get the the SFR in M_sun per Gyr \n",
    "            psi = mass * sfr(tage, tau) / A\n",
    "            # if we want SFR in Msun/year\n",
    "            psi1 = psi/1e9\n",
    "\n",
    "            row = mass, dust, tage, tau, fagn, agn_tau, duste_umin, duste_qpah, duste_gamma,mass16, dust16, tage16, tau16, fagn16, agn_tau16, duste_umin16, duste_qpah16, duste_gamma16, psi, psi1,\n",
    "            a.append(row)\n",
    "        except:\n",
    "            print(filename)\n",
    "            \n",
    "    \n",
    "df = pd.DataFrame(a,columns=columns)\n",
    "\n"
   ]
  },
  {
   "cell_type": "code",
   "execution_count": null,
   "id": "018eb2ff-0d4d-4296-ad5f-1a279ef66d96",
   "metadata": {},
   "outputs": [],
   "source": []
  },
  {
   "cell_type": "code",
   "execution_count": 7,
   "id": "054dd364-0108-40be-9428-c59013088028",
   "metadata": {},
   "outputs": [
    {
     "data": {
      "text/plain": [
       "666"
      ]
     },
     "execution_count": 7,
     "metadata": {},
     "output_type": "execute_result"
    }
   ],
   "source": [
    "_"
   ]
  },
  {
   "cell_type": "code",
   "execution_count": 8,
   "id": "e7a34547-da39-4936-b746-af4e62315af6",
   "metadata": {},
   "outputs": [
    {
     "data": {
      "text/html": [
       "<div>\n",
       "<style scoped>\n",
       "    .dataframe tbody tr th:only-of-type {\n",
       "        vertical-align: middle;\n",
       "    }\n",
       "\n",
       "    .dataframe tbody tr th {\n",
       "        vertical-align: top;\n",
       "    }\n",
       "\n",
       "    .dataframe thead th {\n",
       "        text-align: right;\n",
       "    }\n",
       "</style>\n",
       "<table border=\"1\" class=\"dataframe\">\n",
       "  <thead>\n",
       "    <tr style=\"text-align: right;\">\n",
       "      <th></th>\n",
       "      <th>mass</th>\n",
       "      <th>dust</th>\n",
       "      <th>tage</th>\n",
       "      <th>tau</th>\n",
       "      <th>fagn</th>\n",
       "      <th>agn_tau</th>\n",
       "      <th>duste_umin</th>\n",
       "      <th>duste_qpah</th>\n",
       "      <th>duste_gamma</th>\n",
       "      <th>mass16</th>\n",
       "      <th>dust16</th>\n",
       "      <th>tage16</th>\n",
       "      <th>tau16</th>\n",
       "      <th>fagn16</th>\n",
       "      <th>agn_tau16</th>\n",
       "      <th>duste_umin16</th>\n",
       "      <th>duste_qpah16</th>\n",
       "      <th>duste_gamma16</th>\n",
       "      <th>psi</th>\n",
       "      <th>psi1</th>\n",
       "    </tr>\n",
       "  </thead>\n",
       "  <tbody>\n",
       "  </tbody>\n",
       "</table>\n",
       "</div>"
      ],
      "text/plain": [
       "Empty DataFrame\n",
       "Columns: [mass, dust, tage, tau, fagn, agn_tau, duste_umin, duste_qpah, duste_gamma, mass16, dust16, tage16, tau16, fagn16, agn_tau16, duste_umin16, duste_qpah16, duste_gamma16, psi, psi1]\n",
       "Index: []"
      ]
     },
     "execution_count": 8,
     "metadata": {},
     "output_type": "execute_result"
    }
   ],
   "source": [
    "df"
   ]
  },
  {
   "cell_type": "code",
   "execution_count": 9,
   "id": "54c74408-a44b-4354-83b8-7616e71baa9d",
   "metadata": {},
   "outputs": [
    {
     "data": {
      "text/plain": [
       "array([    0,     1,     2, ..., 10997, 10998, 10999])"
      ]
     },
     "execution_count": 9,
     "metadata": {},
     "output_type": "execute_result"
    }
   ],
   "source": [
    "rand_pick = np.arange(11000)\n",
    "rand_pick"
   ]
  },
  {
   "cell_type": "code",
   "execution_count": 10,
   "id": "0d4bf2eb-d2a4-4408-a365-7222a1eefc9c",
   "metadata": {},
   "outputs": [
    {
     "data": {
      "text/plain": [
       "array([0, 0, 0, 0, 0, 0, 0, 0, 0, 0, 0, 0, 0, 0, 0, 0, 0, 0, 0, 0, 0, 0,\n",
       "       0, 0, 0, 0, 0, 0, 0, 0, 0, 0, 0, 0, 0, 0, 0, 0, 0, 0, 0, 0, 0, 0,\n",
       "       0, 0, 0, 0, 0, 0, 0, 0, 0, 0, 0, 0, 0, 0, 0, 0, 0, 0, 0, 0, 0, 0,\n",
       "       0, 0, 0, 0, 0, 0, 0, 0, 0, 0, 0, 0, 0, 0, 0, 0, 0, 0, 0, 0, 0, 0,\n",
       "       0, 0, 0, 0, 0, 0, 0, 0, 0, 0, 0, 0, 0, 0, 0, 0, 0, 0, 0, 0, 0, 0,\n",
       "       0, 0, 0, 0, 0, 0, 0, 0, 0, 0, 0, 0, 0, 0, 0, 0, 0, 0, 0, 0, 0, 0,\n",
       "       0, 0, 0, 0, 0, 0, 0, 0, 0, 0, 0, 0, 0, 0, 0, 0, 0, 0, 0, 0, 0, 0,\n",
       "       0, 0, 0, 0, 0, 0, 0, 0, 0, 0, 0, 0, 0, 0, 0, 0, 0, 0, 0, 0, 0, 0,\n",
       "       0, 0, 0, 0, 0, 0, 0, 0, 0, 0, 0, 0, 0, 0, 0, 0, 0, 0, 0, 0, 0, 0,\n",
       "       0, 0, 0, 0, 0, 0, 0, 0, 0, 0, 0, 0, 0, 0, 0, 0, 0, 0, 0, 0, 0, 0,\n",
       "       0, 0, 0, 0, 0, 0, 0, 0, 0, 0, 0, 0, 0, 0, 0, 0, 0, 0, 0, 0, 0, 0,\n",
       "       0, 0, 0, 0, 0, 0, 0, 0, 0, 0, 0, 0, 0, 0, 0, 0, 0, 0, 0, 0, 0, 0,\n",
       "       0, 0, 0, 0, 0, 0, 0, 0, 0, 0, 0, 0, 0, 0, 0, 0, 0, 0, 0, 0, 0, 0,\n",
       "       0, 0, 0, 0, 0, 0, 0, 0, 0, 0, 0, 0, 0, 0, 0, 0, 0, 0, 0, 0, 0, 0,\n",
       "       0, 0, 0, 0, 0, 0, 0, 0, 0, 0, 0, 0, 0, 0, 0, 0, 0, 0, 0, 0, 0, 0,\n",
       "       0, 0, 0, 0, 0, 0, 0, 0, 0, 0, 0, 0, 0, 0, 0, 0, 0, 0, 0, 0, 0, 0,\n",
       "       0, 0, 0, 0, 0, 0, 0, 0, 0, 0, 0, 0, 0, 0, 0, 0, 0, 0, 0, 0, 0, 0,\n",
       "       0, 0, 0, 0, 0, 0, 0, 0, 0, 0, 0, 0, 0, 0, 0, 0, 0, 0, 0, 0, 0, 0,\n",
       "       0, 0, 0, 0, 0, 0, 0, 0, 0, 0, 0, 0, 0, 0, 0, 0, 0, 0, 0, 0, 0, 0,\n",
       "       0, 0, 0, 0, 0, 0, 0, 0, 0, 0, 0, 0, 0, 0, 0, 0, 0, 0, 0, 0, 0, 0,\n",
       "       0, 0, 0, 0, 0, 0, 0, 0, 0, 0, 0, 0, 0, 0, 0, 0, 0, 0, 0, 0, 0, 0,\n",
       "       0, 0, 0, 0, 0, 0, 0, 0, 0, 0, 0, 0, 0, 0, 0, 0, 0, 0, 0, 0, 0, 0,\n",
       "       0, 0, 0, 0, 0, 0, 0, 0, 0, 0, 0, 0, 0, 0, 0, 0, 0, 0, 0, 0, 0, 0,\n",
       "       0, 0, 0, 0, 0, 0, 0, 0, 0, 0, 0, 0, 0, 0, 0, 0, 0, 0, 0, 0, 0, 0,\n",
       "       0, 0, 0, 0, 0, 0, 0, 0, 0, 0, 0, 0, 0, 0, 0, 0, 0, 0, 0, 0, 0, 0,\n",
       "       0, 0, 0, 0, 0, 0, 0, 0, 0, 0, 0, 0, 0, 0, 0, 0, 0, 0, 0, 0, 0, 0,\n",
       "       0, 0, 0, 0, 0, 0, 0, 0, 0, 0, 0, 0, 0, 0, 0, 0, 0, 0, 0, 0, 0, 0,\n",
       "       0, 0, 0, 0, 0, 0, 0, 0, 0, 0, 0, 0, 0, 0, 0, 0, 0, 0, 0, 0, 0, 0,\n",
       "       0, 0, 0, 0, 0, 0, 0, 0, 0, 0, 0, 0, 0, 0, 0, 0, 0, 0, 0, 0, 0, 0,\n",
       "       0, 0, 0, 0, 0, 0, 0, 0, 0, 0, 0, 0, 0, 0, 0, 0, 0, 0, 0, 0, 0, 0,\n",
       "       0, 0, 0, 0, 0, 0, 0, 0, 0, 0, 0, 0, 0, 0, 0, 0, 0, 0, 0, 0, 0, 0,\n",
       "       0, 0, 0, 0, 0, 0, 0, 0, 0, 0, 0, 0, 0, 0, 0, 0, 0, 0, 0, 0, 0, 0,\n",
       "       0, 0, 0, 0, 0, 0, 0, 0, 0, 0, 0, 0, 0, 0, 0, 0, 0, 0, 0, 0, 0, 0,\n",
       "       0, 0, 0, 0, 0, 0, 0, 0, 0, 0, 0, 0, 0, 0, 0, 0, 0, 0, 0, 0, 0, 0,\n",
       "       0, 0, 0, 0, 0, 0, 0, 0, 0, 0, 0, 0, 0, 0, 0, 0, 0, 0, 0, 0, 0, 0,\n",
       "       0, 0, 0, 0, 0, 0, 0, 0, 0, 0, 0, 0, 0, 0, 0, 0, 0, 0, 0, 0, 0, 0,\n",
       "       0, 0, 0, 0, 0, 0, 0, 0, 0, 0, 0, 0, 0, 0, 0, 0, 0, 0, 0, 0, 0, 0,\n",
       "       0, 0, 0, 0, 0, 0, 0, 0, 0, 0, 0, 0, 0, 0, 0, 0, 0, 0, 0, 0, 0, 0,\n",
       "       0, 0, 0, 0, 0, 0, 0, 0, 0, 0, 0, 0, 0, 0, 0, 0, 0, 0, 0, 0, 0, 0,\n",
       "       0, 0, 0, 0, 0, 0, 0, 0, 0, 0, 0, 0, 0, 0, 0, 0, 0, 0, 0, 0, 0, 0,\n",
       "       0, 0, 0, 0, 0, 0, 0, 0, 0, 0, 0, 0, 0, 0, 0, 0, 0, 0, 0, 0, 0, 0,\n",
       "       0, 0, 0, 0, 0, 0, 0, 0, 0, 0, 0, 0, 0, 0, 0, 0, 0, 0, 0, 0, 0, 0,\n",
       "       0, 0, 0, 0, 0, 0, 0, 0, 0, 0, 0, 0, 0, 0, 0, 0, 0, 0, 0, 0, 0, 0,\n",
       "       0, 0, 0, 0, 0, 0, 0, 0, 0, 0, 0, 0, 0, 0, 0, 0, 0, 0, 0, 0, 0, 0,\n",
       "       0, 0, 0, 0, 0, 0, 0, 0, 0, 0, 0, 0, 0, 0, 0, 0, 0, 0, 0, 0, 0, 0,\n",
       "       0, 0, 0, 0, 0, 0, 0, 0, 0, 0])"
      ]
     },
     "execution_count": 10,
     "metadata": {},
     "output_type": "execute_result"
    }
   ],
   "source": [
    "rand_pick = np.random.choice(range(len(df['mass'])not in a) , 1000)\n",
    "rand_pick"
   ]
  },
  {
   "cell_type": "code",
   "execution_count": null,
   "id": "9752f0e1-6cd9-43ec-957d-ab65930515a7",
   "metadata": {
    "tags": []
   },
   "outputs": [],
   "source": []
  },
  {
   "cell_type": "code",
   "execution_count": 12,
   "id": "67cb00b1-7892-421f-aee8-07476ab9957b",
   "metadata": {},
   "outputs": [],
   "source": [
    "FittedGalaxies = []\n",
    "for file in os.listdir(directory):\n",
    "    try:\n",
    "        filename = os.fsdecode(file)\n",
    "        f  = [int(s) for s in filename.split('_') if s.isdigit()]\n",
    "        FittedGalaxies.append(f[0])\n",
    "    except:\n",
    "        filename = os.fsdecode(file)\n",
    "a = np.asarray(FittedGalaxies)"
   ]
  },
  {
   "cell_type": "code",
   "execution_count": 13,
   "id": "533856cc-06bf-4f87-a56b-816dd2583fe8",
   "metadata": {},
   "outputs": [],
   "source": [
    "a = np.asarray(FittedGalaxies)"
   ]
  },
  {
   "cell_type": "code",
   "execution_count": 14,
   "id": "f9a5a070-20dd-4164-925c-73f4f00dd658",
   "metadata": {},
   "outputs": [
    {
     "data": {
      "text/plain": [
       "array([ True,  True,  True, ...,  True,  True,  True])"
      ]
     },
     "execution_count": 14,
     "metadata": {},
     "output_type": "execute_result"
    }
   ],
   "source": [
    "a.tofile('fitted.dat')\n",
    "c = np.fromfile('fitted.dat', dtype=int)\n",
    "c == a"
   ]
  },
  {
   "cell_type": "code",
   "execution_count": 15,
   "id": "2802a8be-ecd1-4172-9073-975206fe94f3",
   "metadata": {},
   "outputs": [
    {
     "data": {
      "text/plain": [
       "array([1669, 1739, 1571, ..., 2699, 2581, 2817])"
      ]
     },
     "execution_count": 15,
     "metadata": {},
     "output_type": "execute_result"
    }
   ],
   "source": [
    "c"
   ]
  },
  {
   "cell_type": "code",
   "execution_count": 16,
   "id": "fe31ca37-c3a4-4076-8607-732ad1d5de65",
   "metadata": {},
   "outputs": [
    {
     "data": {
      "text/plain": [
       "[]"
      ]
     },
     "execution_count": 16,
     "metadata": {},
     "output_type": "execute_result"
    }
   ],
   "source": [
    "txt = \"h3110_23 cat 444.4 rabbit 11 2 dog\"\n",
    "[float(s) for s in txt.split('_') if s.isdigit()]"
   ]
  },
  {
   "cell_type": "code",
   "execution_count": 17,
   "id": "2ab75e35-9c60-40e1-a8a4-a9da1be08ab4",
   "metadata": {},
   "outputs": [
    {
     "data": {
      "text/plain": [
       "['h3110', '23 cat 444.4 rabbit 11 2 dog']"
      ]
     },
     "execution_count": 17,
     "metadata": {},
     "output_type": "execute_result"
    }
   ],
   "source": [
    "s=\"Planning_Group_20180108.ind\"\n",
    "txt.split('_')"
   ]
  },
  {
   "cell_type": "code",
   "execution_count": 18,
   "id": "76b04b7c-b2b3-4114-a6ad-3f7c0a249b6c",
   "metadata": {},
   "outputs": [
    {
     "ename": "NameError",
     "evalue": "name 'obs' is not defined",
     "output_type": "error",
     "traceback": [
      "\u001b[0;31m---------------------------------------------------------------------------\u001b[0m",
      "\u001b[0;31mNameError\u001b[0m                                 Traceback (most recent call last)",
      "\u001b[0;32m<ipython-input-18-3c6bdfe70d69>\u001b[0m in \u001b[0;36m<module>\u001b[0;34m\u001b[0m\n\u001b[0;32m----> 1\u001b[0;31m \u001b[0mobs\u001b[0m\u001b[0;34m\u001b[0m\u001b[0;34m\u001b[0m\u001b[0m\n\u001b[0m",
      "\u001b[0;31mNameError\u001b[0m: name 'obs' is not defined"
     ]
    }
   ],
   "source": [
    "obs"
   ]
  },
  {
   "cell_type": "code",
   "execution_count": null,
   "id": "13c34d9f-fa93-459b-88f9-0dc095b758f9",
   "metadata": {},
   "outputs": [],
   "source": []
  },
  {
   "cell_type": "code",
   "execution_count": 19,
   "id": "95258194-e533-4939-933b-d4fcc40c9b4b",
   "metadata": {},
   "outputs": [],
   "source": [
    "# df = pd.DataFrame(a,columns=columns)"
   ]
  },
  {
   "cell_type": "code",
   "execution_count": 20,
   "id": "bdab3c02-7969-480c-ba4b-046c68a4106b",
   "metadata": {},
   "outputs": [],
   "source": [
    "def f(row):\n",
    "    if row['fagn']>0.01:\n",
    "        val = 'agn'\n",
    "    else:\n",
    "        val = 'no_agn'\n",
    "    return val"
   ]
  },
  {
   "cell_type": "code",
   "execution_count": 21,
   "id": "12d401d2-21a0-411a-8c7f-2eaf5783ec53",
   "metadata": {},
   "outputs": [
    {
     "ename": "ValueError",
     "evalue": "Wrong number of items passed 20, placement implies 1",
     "output_type": "error",
     "traceback": [
      "\u001b[0;31m---------------------------------------------------------------------------\u001b[0m",
      "\u001b[0;31mKeyError\u001b[0m                                  Traceback (most recent call last)",
      "\u001b[0;32m~/opt/anaconda3/envs/dagn37/lib/python3.7/site-packages/pandas/core/indexes/base.py\u001b[0m in \u001b[0;36mget_loc\u001b[0;34m(self, key, method, tolerance)\u001b[0m\n\u001b[1;32m   3360\u001b[0m             \u001b[0;32mtry\u001b[0m\u001b[0;34m:\u001b[0m\u001b[0;34m\u001b[0m\u001b[0;34m\u001b[0m\u001b[0m\n\u001b[0;32m-> 3361\u001b[0;31m                 \u001b[0;32mreturn\u001b[0m \u001b[0mself\u001b[0m\u001b[0;34m.\u001b[0m\u001b[0m_engine\u001b[0m\u001b[0;34m.\u001b[0m\u001b[0mget_loc\u001b[0m\u001b[0;34m(\u001b[0m\u001b[0mcasted_key\u001b[0m\u001b[0;34m)\u001b[0m\u001b[0;34m\u001b[0m\u001b[0;34m\u001b[0m\u001b[0m\n\u001b[0m\u001b[1;32m   3362\u001b[0m             \u001b[0;32mexcept\u001b[0m \u001b[0mKeyError\u001b[0m \u001b[0;32mas\u001b[0m \u001b[0merr\u001b[0m\u001b[0;34m:\u001b[0m\u001b[0;34m\u001b[0m\u001b[0;34m\u001b[0m\u001b[0m\n",
      "\u001b[0;32m~/opt/anaconda3/envs/dagn37/lib/python3.7/site-packages/pandas/_libs/index.pyx\u001b[0m in \u001b[0;36mpandas._libs.index.IndexEngine.get_loc\u001b[0;34m()\u001b[0m\n",
      "\u001b[0;32m~/opt/anaconda3/envs/dagn37/lib/python3.7/site-packages/pandas/_libs/index.pyx\u001b[0m in \u001b[0;36mpandas._libs.index.IndexEngine.get_loc\u001b[0;34m()\u001b[0m\n",
      "\u001b[0;32mpandas/_libs/hashtable_class_helper.pxi\u001b[0m in \u001b[0;36mpandas._libs.hashtable.PyObjectHashTable.get_item\u001b[0;34m()\u001b[0m\n",
      "\u001b[0;32mpandas/_libs/hashtable_class_helper.pxi\u001b[0m in \u001b[0;36mpandas._libs.hashtable.PyObjectHashTable.get_item\u001b[0;34m()\u001b[0m\n",
      "\u001b[0;31mKeyError\u001b[0m: 'perc_agn'",
      "\nThe above exception was the direct cause of the following exception:\n",
      "\u001b[0;31mKeyError\u001b[0m                                  Traceback (most recent call last)",
      "\u001b[0;32m~/opt/anaconda3/envs/dagn37/lib/python3.7/site-packages/pandas/core/frame.py\u001b[0m in \u001b[0;36m_set_item_mgr\u001b[0;34m(self, key, value)\u001b[0m\n\u001b[1;32m   3750\u001b[0m         \u001b[0;32mtry\u001b[0m\u001b[0;34m:\u001b[0m\u001b[0;34m\u001b[0m\u001b[0;34m\u001b[0m\u001b[0m\n\u001b[0;32m-> 3751\u001b[0;31m             \u001b[0mloc\u001b[0m \u001b[0;34m=\u001b[0m \u001b[0mself\u001b[0m\u001b[0;34m.\u001b[0m\u001b[0m_info_axis\u001b[0m\u001b[0;34m.\u001b[0m\u001b[0mget_loc\u001b[0m\u001b[0;34m(\u001b[0m\u001b[0mkey\u001b[0m\u001b[0;34m)\u001b[0m\u001b[0;34m\u001b[0m\u001b[0;34m\u001b[0m\u001b[0m\n\u001b[0m\u001b[1;32m   3752\u001b[0m         \u001b[0;32mexcept\u001b[0m \u001b[0mKeyError\u001b[0m\u001b[0;34m:\u001b[0m\u001b[0;34m\u001b[0m\u001b[0;34m\u001b[0m\u001b[0m\n",
      "\u001b[0;32m~/opt/anaconda3/envs/dagn37/lib/python3.7/site-packages/pandas/core/indexes/base.py\u001b[0m in \u001b[0;36mget_loc\u001b[0;34m(self, key, method, tolerance)\u001b[0m\n\u001b[1;32m   3362\u001b[0m             \u001b[0;32mexcept\u001b[0m \u001b[0mKeyError\u001b[0m \u001b[0;32mas\u001b[0m \u001b[0merr\u001b[0m\u001b[0;34m:\u001b[0m\u001b[0;34m\u001b[0m\u001b[0;34m\u001b[0m\u001b[0m\n\u001b[0;32m-> 3363\u001b[0;31m                 \u001b[0;32mraise\u001b[0m \u001b[0mKeyError\u001b[0m\u001b[0;34m(\u001b[0m\u001b[0mkey\u001b[0m\u001b[0;34m)\u001b[0m \u001b[0;32mfrom\u001b[0m \u001b[0merr\u001b[0m\u001b[0;34m\u001b[0m\u001b[0;34m\u001b[0m\u001b[0m\n\u001b[0m\u001b[1;32m   3364\u001b[0m \u001b[0;34m\u001b[0m\u001b[0m\n",
      "\u001b[0;31mKeyError\u001b[0m: 'perc_agn'",
      "\nDuring handling of the above exception, another exception occurred:\n",
      "\u001b[0;31mValueError\u001b[0m                                Traceback (most recent call last)",
      "\u001b[0;32m<ipython-input-21-52e57c4ebf48>\u001b[0m in \u001b[0;36m<module>\u001b[0;34m\u001b[0m\n\u001b[0;32m----> 1\u001b[0;31m \u001b[0mdf\u001b[0m\u001b[0;34m[\u001b[0m\u001b[0;34m'perc_agn'\u001b[0m\u001b[0;34m]\u001b[0m \u001b[0;34m=\u001b[0m \u001b[0mdf\u001b[0m\u001b[0;34m.\u001b[0m\u001b[0mapply\u001b[0m\u001b[0;34m(\u001b[0m\u001b[0mf\u001b[0m\u001b[0;34m,\u001b[0m \u001b[0maxis\u001b[0m\u001b[0;34m=\u001b[0m\u001b[0;36m1\u001b[0m\u001b[0;34m)\u001b[0m\u001b[0;34m\u001b[0m\u001b[0;34m\u001b[0m\u001b[0m\n\u001b[0m",
      "\u001b[0;32m~/opt/anaconda3/envs/dagn37/lib/python3.7/site-packages/pandas/core/frame.py\u001b[0m in \u001b[0;36m__setitem__\u001b[0;34m(self, key, value)\u001b[0m\n\u001b[1;32m   3600\u001b[0m             \u001b[0mself\u001b[0m\u001b[0;34m.\u001b[0m\u001b[0m_setitem_array\u001b[0m\u001b[0;34m(\u001b[0m\u001b[0mkey\u001b[0m\u001b[0;34m,\u001b[0m \u001b[0mvalue\u001b[0m\u001b[0;34m)\u001b[0m\u001b[0;34m\u001b[0m\u001b[0;34m\u001b[0m\u001b[0m\n\u001b[1;32m   3601\u001b[0m         \u001b[0;32melif\u001b[0m \u001b[0misinstance\u001b[0m\u001b[0;34m(\u001b[0m\u001b[0mvalue\u001b[0m\u001b[0;34m,\u001b[0m \u001b[0mDataFrame\u001b[0m\u001b[0;34m)\u001b[0m\u001b[0;34m:\u001b[0m\u001b[0;34m\u001b[0m\u001b[0;34m\u001b[0m\u001b[0m\n\u001b[0;32m-> 3602\u001b[0;31m             \u001b[0mself\u001b[0m\u001b[0;34m.\u001b[0m\u001b[0m_set_item_frame_value\u001b[0m\u001b[0;34m(\u001b[0m\u001b[0mkey\u001b[0m\u001b[0;34m,\u001b[0m \u001b[0mvalue\u001b[0m\u001b[0;34m)\u001b[0m\u001b[0;34m\u001b[0m\u001b[0;34m\u001b[0m\u001b[0m\n\u001b[0m\u001b[1;32m   3603\u001b[0m         elif (\n\u001b[1;32m   3604\u001b[0m             \u001b[0mis_list_like\u001b[0m\u001b[0;34m(\u001b[0m\u001b[0mvalue\u001b[0m\u001b[0;34m)\u001b[0m\u001b[0;34m\u001b[0m\u001b[0;34m\u001b[0m\u001b[0m\n",
      "\u001b[0;32m~/opt/anaconda3/envs/dagn37/lib/python3.7/site-packages/pandas/core/frame.py\u001b[0m in \u001b[0;36m_set_item_frame_value\u001b[0;34m(self, key, value)\u001b[0m\n\u001b[1;32m   3740\u001b[0m         \u001b[0;31m# now align rows\u001b[0m\u001b[0;34m\u001b[0m\u001b[0;34m\u001b[0m\u001b[0;34m\u001b[0m\u001b[0m\n\u001b[1;32m   3741\u001b[0m         \u001b[0marraylike\u001b[0m \u001b[0;34m=\u001b[0m \u001b[0m_reindex_for_setitem\u001b[0m\u001b[0;34m(\u001b[0m\u001b[0mvalue\u001b[0m\u001b[0;34m,\u001b[0m \u001b[0mself\u001b[0m\u001b[0;34m.\u001b[0m\u001b[0mindex\u001b[0m\u001b[0;34m)\u001b[0m\u001b[0;34m\u001b[0m\u001b[0;34m\u001b[0m\u001b[0m\n\u001b[0;32m-> 3742\u001b[0;31m         \u001b[0mself\u001b[0m\u001b[0;34m.\u001b[0m\u001b[0m_set_item_mgr\u001b[0m\u001b[0;34m(\u001b[0m\u001b[0mkey\u001b[0m\u001b[0;34m,\u001b[0m \u001b[0marraylike\u001b[0m\u001b[0;34m)\u001b[0m\u001b[0;34m\u001b[0m\u001b[0;34m\u001b[0m\u001b[0m\n\u001b[0m\u001b[1;32m   3743\u001b[0m \u001b[0;34m\u001b[0m\u001b[0m\n\u001b[1;32m   3744\u001b[0m     \u001b[0;32mdef\u001b[0m \u001b[0m_iset_item_mgr\u001b[0m\u001b[0;34m(\u001b[0m\u001b[0mself\u001b[0m\u001b[0;34m,\u001b[0m \u001b[0mloc\u001b[0m\u001b[0;34m:\u001b[0m \u001b[0mint\u001b[0m \u001b[0;34m|\u001b[0m \u001b[0mslice\u001b[0m \u001b[0;34m|\u001b[0m \u001b[0mnp\u001b[0m\u001b[0;34m.\u001b[0m\u001b[0mndarray\u001b[0m\u001b[0;34m,\u001b[0m \u001b[0mvalue\u001b[0m\u001b[0;34m)\u001b[0m \u001b[0;34m->\u001b[0m \u001b[0;32mNone\u001b[0m\u001b[0;34m:\u001b[0m\u001b[0;34m\u001b[0m\u001b[0;34m\u001b[0m\u001b[0m\n",
      "\u001b[0;32m~/opt/anaconda3/envs/dagn37/lib/python3.7/site-packages/pandas/core/frame.py\u001b[0m in \u001b[0;36m_set_item_mgr\u001b[0;34m(self, key, value)\u001b[0m\n\u001b[1;32m   3752\u001b[0m         \u001b[0;32mexcept\u001b[0m \u001b[0mKeyError\u001b[0m\u001b[0;34m:\u001b[0m\u001b[0;34m\u001b[0m\u001b[0;34m\u001b[0m\u001b[0m\n\u001b[1;32m   3753\u001b[0m             \u001b[0;31m# This item wasn't present, just insert at end\u001b[0m\u001b[0;34m\u001b[0m\u001b[0;34m\u001b[0m\u001b[0;34m\u001b[0m\u001b[0m\n\u001b[0;32m-> 3754\u001b[0;31m             \u001b[0mself\u001b[0m\u001b[0;34m.\u001b[0m\u001b[0m_mgr\u001b[0m\u001b[0;34m.\u001b[0m\u001b[0minsert\u001b[0m\u001b[0;34m(\u001b[0m\u001b[0mlen\u001b[0m\u001b[0;34m(\u001b[0m\u001b[0mself\u001b[0m\u001b[0;34m.\u001b[0m\u001b[0m_info_axis\u001b[0m\u001b[0;34m)\u001b[0m\u001b[0;34m,\u001b[0m \u001b[0mkey\u001b[0m\u001b[0;34m,\u001b[0m \u001b[0mvalue\u001b[0m\u001b[0;34m)\u001b[0m\u001b[0;34m\u001b[0m\u001b[0;34m\u001b[0m\u001b[0m\n\u001b[0m\u001b[1;32m   3755\u001b[0m         \u001b[0;32melse\u001b[0m\u001b[0;34m:\u001b[0m\u001b[0;34m\u001b[0m\u001b[0;34m\u001b[0m\u001b[0m\n\u001b[1;32m   3756\u001b[0m             \u001b[0mself\u001b[0m\u001b[0;34m.\u001b[0m\u001b[0m_iset_item_mgr\u001b[0m\u001b[0;34m(\u001b[0m\u001b[0mloc\u001b[0m\u001b[0;34m,\u001b[0m \u001b[0mvalue\u001b[0m\u001b[0;34m)\u001b[0m\u001b[0;34m\u001b[0m\u001b[0;34m\u001b[0m\u001b[0m\n",
      "\u001b[0;32m~/opt/anaconda3/envs/dagn37/lib/python3.7/site-packages/pandas/core/internals/managers.py\u001b[0m in \u001b[0;36minsert\u001b[0;34m(self, loc, item, value)\u001b[0m\n\u001b[1;32m   1160\u001b[0m             \u001b[0mvalue\u001b[0m \u001b[0;34m=\u001b[0m \u001b[0mensure_block_shape\u001b[0m\u001b[0;34m(\u001b[0m\u001b[0mvalue\u001b[0m\u001b[0;34m,\u001b[0m \u001b[0mndim\u001b[0m\u001b[0;34m=\u001b[0m\u001b[0mself\u001b[0m\u001b[0;34m.\u001b[0m\u001b[0mndim\u001b[0m\u001b[0;34m)\u001b[0m\u001b[0;34m\u001b[0m\u001b[0;34m\u001b[0m\u001b[0m\n\u001b[1;32m   1161\u001b[0m \u001b[0;34m\u001b[0m\u001b[0m\n\u001b[0;32m-> 1162\u001b[0;31m         \u001b[0mblock\u001b[0m \u001b[0;34m=\u001b[0m \u001b[0mnew_block\u001b[0m\u001b[0;34m(\u001b[0m\u001b[0mvalues\u001b[0m\u001b[0;34m=\u001b[0m\u001b[0mvalue\u001b[0m\u001b[0;34m,\u001b[0m \u001b[0mndim\u001b[0m\u001b[0;34m=\u001b[0m\u001b[0mself\u001b[0m\u001b[0;34m.\u001b[0m\u001b[0mndim\u001b[0m\u001b[0;34m,\u001b[0m \u001b[0mplacement\u001b[0m\u001b[0;34m=\u001b[0m\u001b[0mslice\u001b[0m\u001b[0;34m(\u001b[0m\u001b[0mloc\u001b[0m\u001b[0;34m,\u001b[0m \u001b[0mloc\u001b[0m \u001b[0;34m+\u001b[0m \u001b[0;36m1\u001b[0m\u001b[0;34m)\u001b[0m\u001b[0;34m)\u001b[0m\u001b[0;34m\u001b[0m\u001b[0;34m\u001b[0m\u001b[0m\n\u001b[0m\u001b[1;32m   1163\u001b[0m \u001b[0;34m\u001b[0m\u001b[0m\n\u001b[1;32m   1164\u001b[0m         \u001b[0;32mfor\u001b[0m \u001b[0mblkno\u001b[0m\u001b[0;34m,\u001b[0m \u001b[0mcount\u001b[0m \u001b[0;32min\u001b[0m \u001b[0m_fast_count_smallints\u001b[0m\u001b[0;34m(\u001b[0m\u001b[0mself\u001b[0m\u001b[0;34m.\u001b[0m\u001b[0mblknos\u001b[0m\u001b[0;34m[\u001b[0m\u001b[0mloc\u001b[0m\u001b[0;34m:\u001b[0m\u001b[0;34m]\u001b[0m\u001b[0;34m)\u001b[0m\u001b[0;34m:\u001b[0m\u001b[0;34m\u001b[0m\u001b[0;34m\u001b[0m\u001b[0m\n",
      "\u001b[0;32m~/opt/anaconda3/envs/dagn37/lib/python3.7/site-packages/pandas/core/internals/blocks.py\u001b[0m in \u001b[0;36mnew_block\u001b[0;34m(values, placement, ndim, klass)\u001b[0m\n\u001b[1;32m   1935\u001b[0m \u001b[0;34m\u001b[0m\u001b[0m\n\u001b[1;32m   1936\u001b[0m     \u001b[0mvalues\u001b[0m\u001b[0;34m,\u001b[0m \u001b[0m_\u001b[0m \u001b[0;34m=\u001b[0m \u001b[0mextract_pandas_array\u001b[0m\u001b[0;34m(\u001b[0m\u001b[0mvalues\u001b[0m\u001b[0;34m,\u001b[0m \u001b[0;32mNone\u001b[0m\u001b[0;34m,\u001b[0m \u001b[0mndim\u001b[0m\u001b[0;34m)\u001b[0m\u001b[0;34m\u001b[0m\u001b[0;34m\u001b[0m\u001b[0m\n\u001b[0;32m-> 1937\u001b[0;31m     \u001b[0mcheck_ndim\u001b[0m\u001b[0;34m(\u001b[0m\u001b[0mvalues\u001b[0m\u001b[0;34m,\u001b[0m \u001b[0mplacement\u001b[0m\u001b[0;34m,\u001b[0m \u001b[0mndim\u001b[0m\u001b[0;34m)\u001b[0m\u001b[0;34m\u001b[0m\u001b[0;34m\u001b[0m\u001b[0m\n\u001b[0m\u001b[1;32m   1938\u001b[0m \u001b[0;34m\u001b[0m\u001b[0m\n\u001b[1;32m   1939\u001b[0m     \u001b[0;32mif\u001b[0m \u001b[0mklass\u001b[0m \u001b[0;32mis\u001b[0m \u001b[0;32mNone\u001b[0m\u001b[0;34m:\u001b[0m\u001b[0;34m\u001b[0m\u001b[0;34m\u001b[0m\u001b[0m\n",
      "\u001b[0;32m~/opt/anaconda3/envs/dagn37/lib/python3.7/site-packages/pandas/core/internals/blocks.py\u001b[0m in \u001b[0;36mcheck_ndim\u001b[0;34m(values, placement, ndim)\u001b[0m\n\u001b[1;32m   1978\u001b[0m         \u001b[0;32mif\u001b[0m \u001b[0mlen\u001b[0m\u001b[0;34m(\u001b[0m\u001b[0mplacement\u001b[0m\u001b[0;34m)\u001b[0m \u001b[0;34m!=\u001b[0m \u001b[0mlen\u001b[0m\u001b[0;34m(\u001b[0m\u001b[0mvalues\u001b[0m\u001b[0;34m)\u001b[0m\u001b[0;34m:\u001b[0m\u001b[0;34m\u001b[0m\u001b[0;34m\u001b[0m\u001b[0m\n\u001b[1;32m   1979\u001b[0m             raise ValueError(\n\u001b[0;32m-> 1980\u001b[0;31m                 \u001b[0;34mf\"Wrong number of items passed {len(values)}, \"\u001b[0m\u001b[0;34m\u001b[0m\u001b[0;34m\u001b[0m\u001b[0m\n\u001b[0m\u001b[1;32m   1981\u001b[0m                 \u001b[0;34mf\"placement implies {len(placement)}\"\u001b[0m\u001b[0;34m\u001b[0m\u001b[0;34m\u001b[0m\u001b[0m\n\u001b[1;32m   1982\u001b[0m             )\n",
      "\u001b[0;31mValueError\u001b[0m: Wrong number of items passed 20, placement implies 1"
     ]
    }
   ],
   "source": [
    "df['perc_agn'] = df.apply(f, axis=1)"
   ]
  },
  {
   "cell_type": "code",
   "execution_count": 22,
   "id": "80e76944-eec5-4446-a164-e15779bf5134",
   "metadata": {},
   "outputs": [],
   "source": [
    "df_agn =df[df.fagn>0.01]"
   ]
  },
  {
   "cell_type": "code",
   "execution_count": 23,
   "id": "c7287cbd-9666-4262-ad7a-8669b2a447cf",
   "metadata": {},
   "outputs": [],
   "source": [
    "bins = np.arange(7.0, 10.5, 0.5)"
   ]
  },
  {
   "cell_type": "code",
   "execution_count": 24,
   "id": "7ee68abd-9805-4881-b543-36843add9836",
   "metadata": {},
   "outputs": [],
   "source": [
    "# bins = np.arange(np.log10(df['mass']).min(), np.log10(df['mass']).max(), 0.3) # adjust as desired"
   ]
  },
  {
   "cell_type": "code",
   "execution_count": 25,
   "id": "4f52893a-f66d-4839-843e-dbb5338fe840",
   "metadata": {},
   "outputs": [
    {
     "data": {
      "text/html": [
       "<div>\n",
       "<style scoped>\n",
       "    .dataframe tbody tr th:only-of-type {\n",
       "        vertical-align: middle;\n",
       "    }\n",
       "\n",
       "    .dataframe tbody tr th {\n",
       "        vertical-align: top;\n",
       "    }\n",
       "\n",
       "    .dataframe thead th {\n",
       "        text-align: right;\n",
       "    }\n",
       "</style>\n",
       "<table border=\"1\" class=\"dataframe\">\n",
       "  <thead>\n",
       "    <tr style=\"text-align: right;\">\n",
       "      <th></th>\n",
       "      <th>mass</th>\n",
       "      <th>dust</th>\n",
       "      <th>tage</th>\n",
       "      <th>tau</th>\n",
       "      <th>fagn</th>\n",
       "      <th>agn_tau</th>\n",
       "      <th>duste_umin</th>\n",
       "      <th>duste_qpah</th>\n",
       "      <th>duste_gamma</th>\n",
       "      <th>mass16</th>\n",
       "      <th>dust16</th>\n",
       "      <th>tage16</th>\n",
       "      <th>tau16</th>\n",
       "      <th>fagn16</th>\n",
       "      <th>agn_tau16</th>\n",
       "      <th>duste_umin16</th>\n",
       "      <th>duste_qpah16</th>\n",
       "      <th>duste_gamma16</th>\n",
       "      <th>psi</th>\n",
       "      <th>psi1</th>\n",
       "    </tr>\n",
       "  </thead>\n",
       "  <tbody>\n",
       "  </tbody>\n",
       "</table>\n",
       "</div>"
      ],
      "text/plain": [
       "Empty DataFrame\n",
       "Columns: [mass, dust, tage, tau, fagn, agn_tau, duste_umin, duste_qpah, duste_gamma, mass16, dust16, tage16, tau16, fagn16, agn_tau16, duste_umin16, duste_qpah16, duste_gamma16, psi, psi1]\n",
       "Index: []"
      ]
     },
     "execution_count": 25,
     "metadata": {},
     "output_type": "execute_result"
    }
   ],
   "source": [
    "df"
   ]
  },
  {
   "cell_type": "code",
   "execution_count": 26,
   "id": "276fa744-d4cc-43b0-b83a-f8ee6a342c78",
   "metadata": {},
   "outputs": [],
   "source": [
    "# plt.plot(np.log10(df['mean_mass']),np.log10(df['mean_fagn'] ),'o')"
   ]
  },
  {
   "cell_type": "code",
   "execution_count": 27,
   "id": "f31e21ae-fbc0-473e-9d57-e52a6e2b302c",
   "metadata": {},
   "outputs": [],
   "source": [
    "# bins = np.arange(np.log10(df['mass']).min(), np.log10(df['mass']).max(), 0.5) # adjust as desired\n",
    "df['new_group'] = df.groupby(pd.cut(np.log10(df['mass']), bins, right=False))['fagn'].grouper.group_info[0] + 1"
   ]
  },
  {
   "cell_type": "code",
   "execution_count": 28,
   "id": "065a7d89-1e6d-4f09-9eb4-da9c6c74fb09",
   "metadata": {},
   "outputs": [],
   "source": [
    "df['logmass'] = np.log10(df.mass)"
   ]
  },
  {
   "cell_type": "code",
   "execution_count": 29,
   "id": "82e82d84-db60-452a-ba03-b673e2e4686b",
   "metadata": {},
   "outputs": [
    {
     "ename": "KeyError",
     "evalue": "'fagn'",
     "output_type": "error",
     "traceback": [
      "\u001b[0;31m---------------------------------------------------------------------------\u001b[0m",
      "\u001b[0;31mKeyError\u001b[0m                                  Traceback (most recent call last)",
      "\u001b[0;32m~/opt/anaconda3/envs/dagn37/lib/python3.7/site-packages/pandas/core/indexes/base.py\u001b[0m in \u001b[0;36mget_loc\u001b[0;34m(self, key, method, tolerance)\u001b[0m\n\u001b[1;32m   3360\u001b[0m             \u001b[0;32mtry\u001b[0m\u001b[0;34m:\u001b[0m\u001b[0;34m\u001b[0m\u001b[0;34m\u001b[0m\u001b[0m\n\u001b[0;32m-> 3361\u001b[0;31m                 \u001b[0;32mreturn\u001b[0m \u001b[0mself\u001b[0m\u001b[0;34m.\u001b[0m\u001b[0m_engine\u001b[0m\u001b[0;34m.\u001b[0m\u001b[0mget_loc\u001b[0m\u001b[0;34m(\u001b[0m\u001b[0mcasted_key\u001b[0m\u001b[0;34m)\u001b[0m\u001b[0;34m\u001b[0m\u001b[0;34m\u001b[0m\u001b[0m\n\u001b[0m\u001b[1;32m   3362\u001b[0m             \u001b[0;32mexcept\u001b[0m \u001b[0mKeyError\u001b[0m \u001b[0;32mas\u001b[0m \u001b[0merr\u001b[0m\u001b[0;34m:\u001b[0m\u001b[0;34m\u001b[0m\u001b[0;34m\u001b[0m\u001b[0m\n",
      "\u001b[0;32m~/opt/anaconda3/envs/dagn37/lib/python3.7/site-packages/pandas/_libs/index.pyx\u001b[0m in \u001b[0;36mpandas._libs.index.IndexEngine.get_loc\u001b[0;34m()\u001b[0m\n",
      "\u001b[0;32m~/opt/anaconda3/envs/dagn37/lib/python3.7/site-packages/pandas/_libs/index.pyx\u001b[0m in \u001b[0;36mpandas._libs.index.IndexEngine.get_loc\u001b[0;34m()\u001b[0m\n",
      "\u001b[0;32mpandas/_libs/hashtable_class_helper.pxi\u001b[0m in \u001b[0;36mpandas._libs.hashtable.PyObjectHashTable.get_item\u001b[0;34m()\u001b[0m\n",
      "\u001b[0;32mpandas/_libs/hashtable_class_helper.pxi\u001b[0m in \u001b[0;36mpandas._libs.hashtable.PyObjectHashTable.get_item\u001b[0;34m()\u001b[0m\n",
      "\u001b[0;31mKeyError\u001b[0m: 'fagn'",
      "\nThe above exception was the direct cause of the following exception:\n",
      "\u001b[0;31mKeyError\u001b[0m                                  Traceback (most recent call last)",
      "\u001b[0;32m<ipython-input-29-6bb4ffbd0b45>\u001b[0m in \u001b[0;36m<module>\u001b[0;34m\u001b[0m\n\u001b[1;32m      5\u001b[0m \u001b[0;34m\u001b[0m\u001b[0m\n\u001b[1;32m      6\u001b[0m \u001b[0mdf_stats2\u001b[0m \u001b[0;34m=\u001b[0m \u001b[0mpd\u001b[0m\u001b[0;34m.\u001b[0m\u001b[0mDataFrame\u001b[0m\u001b[0;34m(\u001b[0m\u001b[0;34m)\u001b[0m \u001b[0;31m# DataFrame for the results\u001b[0m\u001b[0;34m\u001b[0m\u001b[0;34m\u001b[0m\u001b[0m\n\u001b[0;32m----> 7\u001b[0;31m \u001b[0mdf_stats2\u001b[0m\u001b[0;34m[\u001b[0m\u001b[0;34m'mean_fagn'\u001b[0m\u001b[0;34m]\u001b[0m  \u001b[0;34m=\u001b[0m \u001b[0mdf_agn\u001b[0m\u001b[0;34m.\u001b[0m\u001b[0mgroupby\u001b[0m\u001b[0;34m(\u001b[0m\u001b[0mpd\u001b[0m\u001b[0;34m.\u001b[0m\u001b[0mcut\u001b[0m\u001b[0;34m(\u001b[0m\u001b[0mnp\u001b[0m\u001b[0;34m.\u001b[0m\u001b[0mlog10\u001b[0m\u001b[0;34m(\u001b[0m\u001b[0mdf_agn\u001b[0m\u001b[0;34m[\u001b[0m\u001b[0;34m'mass'\u001b[0m\u001b[0;34m]\u001b[0m\u001b[0;34m)\u001b[0m\u001b[0;34m,\u001b[0m \u001b[0mbins\u001b[0m\u001b[0;34m,\u001b[0m \u001b[0mright\u001b[0m\u001b[0;34m=\u001b[0m\u001b[0;32mFalse\u001b[0m\u001b[0;34m)\u001b[0m\u001b[0;34m)\u001b[0m\u001b[0;34m.\u001b[0m\u001b[0mmedian\u001b[0m\u001b[0;34m(\u001b[0m\u001b[0;34m)\u001b[0m\u001b[0;34m[\u001b[0m\u001b[0;34m'fagn'\u001b[0m\u001b[0;34m]\u001b[0m\u001b[0;34m\u001b[0m\u001b[0;34m\u001b[0m\u001b[0m\n\u001b[0m\u001b[1;32m      8\u001b[0m \u001b[0mdf_stats2\u001b[0m\u001b[0;34m[\u001b[0m\u001b[0;34m'mean_fagn16'\u001b[0m\u001b[0;34m]\u001b[0m  \u001b[0;34m=\u001b[0m \u001b[0mdf_agn\u001b[0m\u001b[0;34m.\u001b[0m\u001b[0mgroupby\u001b[0m\u001b[0;34m(\u001b[0m\u001b[0mpd\u001b[0m\u001b[0;34m.\u001b[0m\u001b[0mcut\u001b[0m\u001b[0;34m(\u001b[0m\u001b[0mnp\u001b[0m\u001b[0;34m.\u001b[0m\u001b[0mlog10\u001b[0m\u001b[0;34m(\u001b[0m\u001b[0mdf_agn\u001b[0m\u001b[0;34m[\u001b[0m\u001b[0;34m'mass'\u001b[0m\u001b[0;34m]\u001b[0m\u001b[0;34m)\u001b[0m\u001b[0;34m,\u001b[0m \u001b[0mbins\u001b[0m\u001b[0;34m,\u001b[0m \u001b[0mright\u001b[0m\u001b[0;34m=\u001b[0m\u001b[0;32mFalse\u001b[0m\u001b[0;34m)\u001b[0m\u001b[0;34m)\u001b[0m\u001b[0;34m.\u001b[0m\u001b[0mmedian\u001b[0m\u001b[0;34m(\u001b[0m\u001b[0;34m)\u001b[0m\u001b[0;34m[\u001b[0m\u001b[0;34m'fagn16'\u001b[0m\u001b[0;34m]\u001b[0m\u001b[0;34m\u001b[0m\u001b[0;34m\u001b[0m\u001b[0m\n\u001b[1;32m      9\u001b[0m \u001b[0mdf_stats2\u001b[0m\u001b[0;34m[\u001b[0m\u001b[0;34m'mean_mass'\u001b[0m\u001b[0;34m]\u001b[0m  \u001b[0;34m=\u001b[0m \u001b[0mdf_agn\u001b[0m\u001b[0;34m.\u001b[0m\u001b[0mgroupby\u001b[0m\u001b[0;34m(\u001b[0m\u001b[0mpd\u001b[0m\u001b[0;34m.\u001b[0m\u001b[0mcut\u001b[0m\u001b[0;34m(\u001b[0m\u001b[0mnp\u001b[0m\u001b[0;34m.\u001b[0m\u001b[0mlog10\u001b[0m\u001b[0;34m(\u001b[0m\u001b[0mdf_agn\u001b[0m\u001b[0;34m[\u001b[0m\u001b[0;34m'mass'\u001b[0m\u001b[0;34m]\u001b[0m\u001b[0;34m)\u001b[0m\u001b[0;34m,\u001b[0m \u001b[0mbins\u001b[0m\u001b[0;34m,\u001b[0m \u001b[0mright\u001b[0m\u001b[0;34m=\u001b[0m\u001b[0;32mFalse\u001b[0m\u001b[0;34m)\u001b[0m\u001b[0;34m)\u001b[0m\u001b[0;34m.\u001b[0m\u001b[0mmedian\u001b[0m\u001b[0;34m(\u001b[0m\u001b[0;34m)\u001b[0m\u001b[0;34m[\u001b[0m\u001b[0;34m'mass'\u001b[0m\u001b[0;34m]\u001b[0m\u001b[0;34m\u001b[0m\u001b[0;34m\u001b[0m\u001b[0m\n",
      "\u001b[0;32m~/opt/anaconda3/envs/dagn37/lib/python3.7/site-packages/pandas/core/frame.py\u001b[0m in \u001b[0;36m__getitem__\u001b[0;34m(self, key)\u001b[0m\n\u001b[1;32m   3456\u001b[0m             \u001b[0;32mif\u001b[0m \u001b[0mself\u001b[0m\u001b[0;34m.\u001b[0m\u001b[0mcolumns\u001b[0m\u001b[0;34m.\u001b[0m\u001b[0mnlevels\u001b[0m \u001b[0;34m>\u001b[0m \u001b[0;36m1\u001b[0m\u001b[0;34m:\u001b[0m\u001b[0;34m\u001b[0m\u001b[0;34m\u001b[0m\u001b[0m\n\u001b[1;32m   3457\u001b[0m                 \u001b[0;32mreturn\u001b[0m \u001b[0mself\u001b[0m\u001b[0;34m.\u001b[0m\u001b[0m_getitem_multilevel\u001b[0m\u001b[0;34m(\u001b[0m\u001b[0mkey\u001b[0m\u001b[0;34m)\u001b[0m\u001b[0;34m\u001b[0m\u001b[0;34m\u001b[0m\u001b[0m\n\u001b[0;32m-> 3458\u001b[0;31m             \u001b[0mindexer\u001b[0m \u001b[0;34m=\u001b[0m \u001b[0mself\u001b[0m\u001b[0;34m.\u001b[0m\u001b[0mcolumns\u001b[0m\u001b[0;34m.\u001b[0m\u001b[0mget_loc\u001b[0m\u001b[0;34m(\u001b[0m\u001b[0mkey\u001b[0m\u001b[0;34m)\u001b[0m\u001b[0;34m\u001b[0m\u001b[0;34m\u001b[0m\u001b[0m\n\u001b[0m\u001b[1;32m   3459\u001b[0m             \u001b[0;32mif\u001b[0m \u001b[0mis_integer\u001b[0m\u001b[0;34m(\u001b[0m\u001b[0mindexer\u001b[0m\u001b[0;34m)\u001b[0m\u001b[0;34m:\u001b[0m\u001b[0;34m\u001b[0m\u001b[0;34m\u001b[0m\u001b[0m\n\u001b[1;32m   3460\u001b[0m                 \u001b[0mindexer\u001b[0m \u001b[0;34m=\u001b[0m \u001b[0;34m[\u001b[0m\u001b[0mindexer\u001b[0m\u001b[0;34m]\u001b[0m\u001b[0;34m\u001b[0m\u001b[0;34m\u001b[0m\u001b[0m\n",
      "\u001b[0;32m~/opt/anaconda3/envs/dagn37/lib/python3.7/site-packages/pandas/core/indexes/base.py\u001b[0m in \u001b[0;36mget_loc\u001b[0;34m(self, key, method, tolerance)\u001b[0m\n\u001b[1;32m   3361\u001b[0m                 \u001b[0;32mreturn\u001b[0m \u001b[0mself\u001b[0m\u001b[0;34m.\u001b[0m\u001b[0m_engine\u001b[0m\u001b[0;34m.\u001b[0m\u001b[0mget_loc\u001b[0m\u001b[0;34m(\u001b[0m\u001b[0mcasted_key\u001b[0m\u001b[0;34m)\u001b[0m\u001b[0;34m\u001b[0m\u001b[0;34m\u001b[0m\u001b[0m\n\u001b[1;32m   3362\u001b[0m             \u001b[0;32mexcept\u001b[0m \u001b[0mKeyError\u001b[0m \u001b[0;32mas\u001b[0m \u001b[0merr\u001b[0m\u001b[0;34m:\u001b[0m\u001b[0;34m\u001b[0m\u001b[0;34m\u001b[0m\u001b[0m\n\u001b[0;32m-> 3363\u001b[0;31m                 \u001b[0;32mraise\u001b[0m \u001b[0mKeyError\u001b[0m\u001b[0;34m(\u001b[0m\u001b[0mkey\u001b[0m\u001b[0;34m)\u001b[0m \u001b[0;32mfrom\u001b[0m \u001b[0merr\u001b[0m\u001b[0;34m\u001b[0m\u001b[0;34m\u001b[0m\u001b[0m\n\u001b[0m\u001b[1;32m   3364\u001b[0m \u001b[0;34m\u001b[0m\u001b[0m\n\u001b[1;32m   3365\u001b[0m         \u001b[0;32mif\u001b[0m \u001b[0mis_scalar\u001b[0m\u001b[0;34m(\u001b[0m\u001b[0mkey\u001b[0m\u001b[0;34m)\u001b[0m \u001b[0;32mand\u001b[0m \u001b[0misna\u001b[0m\u001b[0;34m(\u001b[0m\u001b[0mkey\u001b[0m\u001b[0;34m)\u001b[0m \u001b[0;32mand\u001b[0m \u001b[0;32mnot\u001b[0m \u001b[0mself\u001b[0m\u001b[0;34m.\u001b[0m\u001b[0mhasnans\u001b[0m\u001b[0;34m:\u001b[0m\u001b[0;34m\u001b[0m\u001b[0;34m\u001b[0m\u001b[0m\n",
      "\u001b[0;31mKeyError\u001b[0m: 'fagn'"
     ]
    }
   ],
   "source": [
    "# I defind the agn sample\n",
    "df_agn =df[df.fagn>0.01]\n",
    "\n",
    "# bins = np.arange(np.log10(df_agn['mass']).min(), np.log10(df_agn['mass']).max(), 0.5) # adjust as desired\n",
    "\n",
    "df_stats2 = pd.DataFrame() # DataFrame for the results\n",
    "df_stats2['mean_fagn']  = df_agn.groupby(pd.cut(np.log10(df_agn['mass']), bins, right=False)).median()['fagn']\n",
    "df_stats2['mean_fagn16']  = df_agn.groupby(pd.cut(np.log10(df_agn['mass']), bins, right=False)).median()['fagn16']\n",
    "df_stats2['mean_mass']  = df_agn.groupby(pd.cut(np.log10(df_agn['mass']), bins, right=False)).median()['mass']\n",
    "df_stats2['st_dev'] = df_agn.groupby(pd.cut(np.log10(df_agn['mass']), bins, right=False)).std()['fagn']"
   ]
  },
  {
   "cell_type": "code",
   "execution_count": 30,
   "id": "b43b8128-6665-4ebd-9bec-46d985d0ff5a",
   "metadata": {},
   "outputs": [
    {
     "ename": "KeyError",
     "evalue": "'mean_mass'",
     "output_type": "error",
     "traceback": [
      "\u001b[0;31m---------------------------------------------------------------------------\u001b[0m",
      "\u001b[0;31mKeyError\u001b[0m                                  Traceback (most recent call last)",
      "\u001b[0;32m~/opt/anaconda3/envs/dagn37/lib/python3.7/site-packages/pandas/core/indexes/base.py\u001b[0m in \u001b[0;36mget_loc\u001b[0;34m(self, key, method, tolerance)\u001b[0m\n\u001b[1;32m   3360\u001b[0m             \u001b[0;32mtry\u001b[0m\u001b[0;34m:\u001b[0m\u001b[0;34m\u001b[0m\u001b[0;34m\u001b[0m\u001b[0m\n\u001b[0;32m-> 3361\u001b[0;31m                 \u001b[0;32mreturn\u001b[0m \u001b[0mself\u001b[0m\u001b[0;34m.\u001b[0m\u001b[0m_engine\u001b[0m\u001b[0;34m.\u001b[0m\u001b[0mget_loc\u001b[0m\u001b[0;34m(\u001b[0m\u001b[0mcasted_key\u001b[0m\u001b[0;34m)\u001b[0m\u001b[0;34m\u001b[0m\u001b[0;34m\u001b[0m\u001b[0m\n\u001b[0m\u001b[1;32m   3362\u001b[0m             \u001b[0;32mexcept\u001b[0m \u001b[0mKeyError\u001b[0m \u001b[0;32mas\u001b[0m \u001b[0merr\u001b[0m\u001b[0;34m:\u001b[0m\u001b[0;34m\u001b[0m\u001b[0;34m\u001b[0m\u001b[0m\n",
      "\u001b[0;32m~/opt/anaconda3/envs/dagn37/lib/python3.7/site-packages/pandas/_libs/index.pyx\u001b[0m in \u001b[0;36mpandas._libs.index.IndexEngine.get_loc\u001b[0;34m()\u001b[0m\n",
      "\u001b[0;32m~/opt/anaconda3/envs/dagn37/lib/python3.7/site-packages/pandas/_libs/index.pyx\u001b[0m in \u001b[0;36mpandas._libs.index.IndexEngine.get_loc\u001b[0;34m()\u001b[0m\n",
      "\u001b[0;32mpandas/_libs/hashtable_class_helper.pxi\u001b[0m in \u001b[0;36mpandas._libs.hashtable.PyObjectHashTable.get_item\u001b[0;34m()\u001b[0m\n",
      "\u001b[0;32mpandas/_libs/hashtable_class_helper.pxi\u001b[0m in \u001b[0;36mpandas._libs.hashtable.PyObjectHashTable.get_item\u001b[0;34m()\u001b[0m\n",
      "\u001b[0;31mKeyError\u001b[0m: 'mean_mass'",
      "\nThe above exception was the direct cause of the following exception:\n",
      "\u001b[0;31mKeyError\u001b[0m                                  Traceback (most recent call last)",
      "\u001b[0;32m<ipython-input-30-5cf192fa043d>\u001b[0m in \u001b[0;36m<module>\u001b[0;34m\u001b[0m\n\u001b[1;32m      9\u001b[0m \u001b[0;34m\u001b[0m\u001b[0m\n\u001b[1;32m     10\u001b[0m \u001b[0;34m\u001b[0m\u001b[0m\n\u001b[0;32m---> 11\u001b[0;31m \u001b[0maxs\u001b[0m\u001b[0;34m[\u001b[0m\u001b[0;36m1\u001b[0m\u001b[0;34m]\u001b[0m\u001b[0;34m.\u001b[0m\u001b[0mplot\u001b[0m\u001b[0;34m(\u001b[0m\u001b[0mnp\u001b[0m\u001b[0;34m.\u001b[0m\u001b[0mlog10\u001b[0m\u001b[0;34m(\u001b[0m\u001b[0mdf_stats2\u001b[0m\u001b[0;34m[\u001b[0m\u001b[0;34m'mean_mass'\u001b[0m\u001b[0;34m]\u001b[0m\u001b[0;34m)\u001b[0m\u001b[0;34m,\u001b[0m\u001b[0mdf_stats2\u001b[0m\u001b[0;34m[\u001b[0m\u001b[0;34m'mean_fagn'\u001b[0m\u001b[0;34m]\u001b[0m\u001b[0;34m,\u001b[0m\u001b[0;34m'o-'\u001b[0m\u001b[0;34m)\u001b[0m\u001b[0;34m\u001b[0m\u001b[0;34m\u001b[0m\u001b[0m\n\u001b[0m\u001b[1;32m     12\u001b[0m \u001b[0maxs\u001b[0m\u001b[0;34m[\u001b[0m\u001b[0;36m1\u001b[0m\u001b[0;34m]\u001b[0m\u001b[0;34m.\u001b[0m\u001b[0mplot\u001b[0m\u001b[0;34m(\u001b[0m\u001b[0mnp\u001b[0m\u001b[0;34m.\u001b[0m\u001b[0mlog10\u001b[0m\u001b[0;34m(\u001b[0m\u001b[0mdf_stats2\u001b[0m\u001b[0;34m[\u001b[0m\u001b[0;34m'mean_mass'\u001b[0m\u001b[0;34m]\u001b[0m\u001b[0;34m)\u001b[0m\u001b[0;34m,\u001b[0m\u001b[0mdf_stats2\u001b[0m\u001b[0;34m[\u001b[0m\u001b[0;34m'mean_fagn16'\u001b[0m\u001b[0;34m]\u001b[0m\u001b[0;34m,\u001b[0m\u001b[0;34m'o-'\u001b[0m\u001b[0;34m)\u001b[0m\u001b[0;34m\u001b[0m\u001b[0;34m\u001b[0m\u001b[0m\n\u001b[1;32m     13\u001b[0m \u001b[0maxs\u001b[0m\u001b[0;34m[\u001b[0m\u001b[0;36m1\u001b[0m\u001b[0;34m]\u001b[0m\u001b[0;34m.\u001b[0m\u001b[0mset_xlabel\u001b[0m\u001b[0;34m(\u001b[0m\u001b[0;34m'log mass'\u001b[0m\u001b[0;34m)\u001b[0m\u001b[0;34m\u001b[0m\u001b[0;34m\u001b[0m\u001b[0m\n",
      "\u001b[0;32m~/opt/anaconda3/envs/dagn37/lib/python3.7/site-packages/pandas/core/frame.py\u001b[0m in \u001b[0;36m__getitem__\u001b[0;34m(self, key)\u001b[0m\n\u001b[1;32m   3456\u001b[0m             \u001b[0;32mif\u001b[0m \u001b[0mself\u001b[0m\u001b[0;34m.\u001b[0m\u001b[0mcolumns\u001b[0m\u001b[0;34m.\u001b[0m\u001b[0mnlevels\u001b[0m \u001b[0;34m>\u001b[0m \u001b[0;36m1\u001b[0m\u001b[0;34m:\u001b[0m\u001b[0;34m\u001b[0m\u001b[0;34m\u001b[0m\u001b[0m\n\u001b[1;32m   3457\u001b[0m                 \u001b[0;32mreturn\u001b[0m \u001b[0mself\u001b[0m\u001b[0;34m.\u001b[0m\u001b[0m_getitem_multilevel\u001b[0m\u001b[0;34m(\u001b[0m\u001b[0mkey\u001b[0m\u001b[0;34m)\u001b[0m\u001b[0;34m\u001b[0m\u001b[0;34m\u001b[0m\u001b[0m\n\u001b[0;32m-> 3458\u001b[0;31m             \u001b[0mindexer\u001b[0m \u001b[0;34m=\u001b[0m \u001b[0mself\u001b[0m\u001b[0;34m.\u001b[0m\u001b[0mcolumns\u001b[0m\u001b[0;34m.\u001b[0m\u001b[0mget_loc\u001b[0m\u001b[0;34m(\u001b[0m\u001b[0mkey\u001b[0m\u001b[0;34m)\u001b[0m\u001b[0;34m\u001b[0m\u001b[0;34m\u001b[0m\u001b[0m\n\u001b[0m\u001b[1;32m   3459\u001b[0m             \u001b[0;32mif\u001b[0m \u001b[0mis_integer\u001b[0m\u001b[0;34m(\u001b[0m\u001b[0mindexer\u001b[0m\u001b[0;34m)\u001b[0m\u001b[0;34m:\u001b[0m\u001b[0;34m\u001b[0m\u001b[0;34m\u001b[0m\u001b[0m\n\u001b[1;32m   3460\u001b[0m                 \u001b[0mindexer\u001b[0m \u001b[0;34m=\u001b[0m \u001b[0;34m[\u001b[0m\u001b[0mindexer\u001b[0m\u001b[0;34m]\u001b[0m\u001b[0;34m\u001b[0m\u001b[0;34m\u001b[0m\u001b[0m\n",
      "\u001b[0;32m~/opt/anaconda3/envs/dagn37/lib/python3.7/site-packages/pandas/core/indexes/base.py\u001b[0m in \u001b[0;36mget_loc\u001b[0;34m(self, key, method, tolerance)\u001b[0m\n\u001b[1;32m   3361\u001b[0m                 \u001b[0;32mreturn\u001b[0m \u001b[0mself\u001b[0m\u001b[0;34m.\u001b[0m\u001b[0m_engine\u001b[0m\u001b[0;34m.\u001b[0m\u001b[0mget_loc\u001b[0m\u001b[0;34m(\u001b[0m\u001b[0mcasted_key\u001b[0m\u001b[0;34m)\u001b[0m\u001b[0;34m\u001b[0m\u001b[0;34m\u001b[0m\u001b[0m\n\u001b[1;32m   3362\u001b[0m             \u001b[0;32mexcept\u001b[0m \u001b[0mKeyError\u001b[0m \u001b[0;32mas\u001b[0m \u001b[0merr\u001b[0m\u001b[0;34m:\u001b[0m\u001b[0;34m\u001b[0m\u001b[0;34m\u001b[0m\u001b[0m\n\u001b[0;32m-> 3363\u001b[0;31m                 \u001b[0;32mraise\u001b[0m \u001b[0mKeyError\u001b[0m\u001b[0;34m(\u001b[0m\u001b[0mkey\u001b[0m\u001b[0;34m)\u001b[0m \u001b[0;32mfrom\u001b[0m \u001b[0merr\u001b[0m\u001b[0;34m\u001b[0m\u001b[0;34m\u001b[0m\u001b[0m\n\u001b[0m\u001b[1;32m   3364\u001b[0m \u001b[0;34m\u001b[0m\u001b[0m\n\u001b[1;32m   3365\u001b[0m         \u001b[0;32mif\u001b[0m \u001b[0mis_scalar\u001b[0m\u001b[0;34m(\u001b[0m\u001b[0mkey\u001b[0m\u001b[0;34m)\u001b[0m \u001b[0;32mand\u001b[0m \u001b[0misna\u001b[0m\u001b[0;34m(\u001b[0m\u001b[0mkey\u001b[0m\u001b[0;34m)\u001b[0m \u001b[0;32mand\u001b[0m \u001b[0;32mnot\u001b[0m \u001b[0mself\u001b[0m\u001b[0;34m.\u001b[0m\u001b[0mhasnans\u001b[0m\u001b[0;34m:\u001b[0m\u001b[0;34m\u001b[0m\u001b[0;34m\u001b[0m\u001b[0m\n",
      "\u001b[0;31mKeyError\u001b[0m: 'mean_mass'"
     ]
    },
    {
     "data": {
      "image/png": "[encoded data removed]",
      "text/plain": [
       "<Figure size 720x576 with 2 Axes>"
      ]
     },
     "metadata": {
      "needs_background": "light"
     },
     "output_type": "display_data"
    }
   ],
   "source": [
    "import matplotlib.pyplot as plt\n",
    "\n",
    "fig, axs = plt.subplots(2, 1, figsize = (10,8))\n",
    "axs[0].plot(np.log10(df.mass),np.log10(df.fagn),'.',color='grey')\n",
    "axs[0].plot(np.log10(df_agn.mass),np.log10(df_agn.fagn),'.',color='black')\n",
    "axs[0].set_xlabel('log mass')\n",
    "axs[0].set_ylabel('fagn')\n",
    "axs[0].grid(True)\n",
    "\n",
    "\n",
    "axs[1].plot(np.log10(df_stats2['mean_mass']),df_stats2['mean_fagn'],'o-')\n",
    "axs[1].plot(np.log10(df_stats2['mean_mass']),df_stats2['mean_fagn16'],'o-')\n",
    "axs[1].set_xlabel('log mass')\n",
    "axs[1].set_ylabel('fagn median')\n",
    "axs[1].grid(True)\n",
    "\n",
    "plt.legend()\n",
    "fig.tight_layout()\n",
    "plt.show()\n",
    "# plt.plot(df_agn.mass1,df_agn.fagn,'o')"
   ]
  },
  {
   "cell_type": "code",
   "execution_count": null,
   "id": "36f8f1cf-4c94-45db-ab98-435282a5a9c0",
   "metadata": {},
   "outputs": [],
   "source": []
  },
  {
   "cell_type": "code",
   "execution_count": null,
   "id": "ccdb8348-5d62-46ac-873d-d590dc313ee8",
   "metadata": {},
   "outputs": [],
   "source": [
    "# bins = np.arange(np.log10(df['mass']).min(), np.log10(df['mass']).max(), 0.2) # adjust as desired\n",
    "\n",
    "df_stats = pd.DataFrame() # DataFrame for the results\n",
    "df_stats['mean_mass']  = df.groupby(pd.cut(np.log10(df['mass']), bins, right=False)).median()['mass']\n",
    "df_stats['log_mean_mass'] = np.log10(df_stats['mean_mass'])\n",
    "df_stats['agn_mean_sfr']  = df[df['fagn'] > 0.01].groupby(pd.cut(np.log10(df[df['fagn'] > 0.01]['mass']), bins, right=False)).median()['psi1']\n",
    "df_stats['mean_sfr']    =  df.groupby(pd.cut(np.log10(df['mass']), bins, right=False)).median()['psi1']\n"
   ]
  },
  {
   "cell_type": "code",
   "execution_count": null,
   "id": "5f239eea-1ede-4010-b8b0-67b2c29509fd",
   "metadata": {},
   "outputs": [],
   "source": [
    "df_stats"
   ]
  },
  {
   "cell_type": "code",
   "execution_count": null,
   "id": "6039585b-f97f-4537-87a2-d6bd3634e5a9",
   "metadata": {},
   "outputs": [],
   "source": [
    "df_stats1 = pd.DataFrame()\n",
    "df = df.sort_values(by=['mass'])\n",
    "df_stats1['med_mass'] = df.groupby('new_group')['logmass'].median()\n",
    "df_stats1['agn_count'] = df[df['fagn'] > 0.01].groupby('new_group')['fagn'].count()\n",
    "df_stats1['agn_count16'] = df[df['fagn16'] > 0.01].groupby('new_group')['fagn16'].count()\n",
    "df_stats1['tot_count'] =df.groupby('new_group')['fagn'].count()\n",
    "df_stats1['tot_count16'] =df.groupby('new_group')['fagn16'].count()\n",
    "df_stats1['percentage'] = round(df_stats1['agn_count']/df_stats1['tot_count'] * 100)\n",
    "df_stats1['percentage16'] = round(df_stats1['agn_count16']/df_stats1['tot_count16'] * 100)\n",
    "\n",
    "df_stats1 = df_stats1.sort_values(by=['med_mass'])\n",
    "\n",
    "import numpy as np\n",
    "import matplotlib.pyplot as plt\n",
    "import matplotlib as mpl\n",
    "\n",
    "# Edit the font, font size, and axes width\n",
    "mpl.rcParams['font.family'] = 'Avenir'\n",
    "plt.rcParams['font.size'] = 18\n",
    "plt.rcParams['axes.linewidth'] = 2\n",
    "\n",
    "\n",
    "\n",
    "\n",
    "fig, axs = plt.subplots(3, 1, figsize = (10,12))\n",
    "# axs[0].plot(np.log10(df['mass']),np.log10(df['psi1']),'.')\n",
    "axs[0].plot(df_stats['log_mean_mass'],np.log10(df_stats['agn_mean_sfr']),'o-',label = 'agn')\n",
    "axs[0].plot(df_stats['log_mean_mass'],np.log10(df_stats['mean_sfr']),'o-',label = 'all')\n",
    "# axs[1].set_xlabel('mass')\n",
    "axs[0].set_ylabel('log median sfr')\n",
    "axs[0].legend(loc=2,fontsize=12)\n",
    "axs[0].grid(True)\n",
    "\n",
    "\n",
    "axs[1].plot(df_stats1['med_mass'],df_stats1['agn_count'],'o-',label = 'agn')\n",
    "axs[1].plot(df_stats1['med_mass'],df_stats1['tot_count'],'o-',label = 'all')\n",
    "# axs[0].set_xlabel('mass')\n",
    "axs[1].set_ylabel('count')\n",
    "axs[1].grid(True)\n",
    "axs[1].legend(loc=2,fontsize=12)\n",
    "\n",
    "\n",
    "axs[2].plot(df_stats1['med_mass'],df_stats1['percentage'],'o-',label = 'median')\n",
    "axs[2].plot(df_stats1['med_mass'],df_stats1['percentage16'],'o-',label = '16th percentile')\n",
    "axs[2].set_xlabel('mass')\n",
    "axs[2].set_ylabel('agn percentage')\n",
    "axs[2].grid(True)\n",
    "\n",
    "plt.legend()\n",
    "fig.tight_layout()\n",
    "plt.savefig('second_run.png')\n",
    "plt.show()"
   ]
  },
  {
   "cell_type": "code",
   "execution_count": null,
   "id": "af0aacb4-2222-4871-acde-c48512907ca8",
   "metadata": {},
   "outputs": [],
   "source": [
    "(df[df['fagn'] > 0.01].groupby('new_group')['fagn'].count()/df.groupby('new_group')['fagn'].count()*100).mean()"
   ]
  },
  {
   "cell_type": "code",
   "execution_count": null,
   "id": "9a103d35-ca53-4066-a218-11a5ffe2b03a",
   "metadata": {},
   "outputs": [],
   "source": [
    "df[df['fagn'] > 0.01].groupby('new_group')['fagn'].count()"
   ]
  },
  {
   "cell_type": "code",
   "execution_count": null,
   "id": "0475cfbc-1142-4f65-8c3e-546dcfa8ccf6",
   "metadata": {},
   "outputs": [],
   "source": [
    "# plt.plot(df.groupby('new_group')['logmass'].median(),df[df['fagn'] > 0.01].groupby('new_group')['fagn'].count()/df.groupby('new_group')['fagn'].count(),'o-')"
   ]
  },
  {
   "cell_type": "code",
   "execution_count": null,
   "id": "2909f53e-6f6c-41a0-8cdf-18b88ada3544",
   "metadata": {},
   "outputs": [],
   "source": []
  },
  {
   "cell_type": "code",
   "execution_count": null,
   "id": "f66f2eb6-b53c-416a-8edd-00a3a78b1ccb",
   "metadata": {},
   "outputs": [],
   "source": []
  },
  {
   "cell_type": "code",
   "execution_count": null,
   "id": "4ddcb8b7-54c2-4ff4-84d4-ac90e5f91de8",
   "metadata": {},
   "outputs": [],
   "source": [
    "import prospect.io.read_results as reader\n",
    "import numpy as np\n",
    "from scipy.special import gamma, gammainc\n",
    "from prospect.plotting.corner import quantile\n",
    "    \n",
    "results_type = \"emcee\"\n",
    "import os\n",
    "\n",
    "directory = os.fsencode(dire)\n",
    "import pandas as pd\n",
    "columns = ['mass', 'dust', 'tage', 'tau', 'fagn', 'agn_tau', 'duste_umin', 'duste_qpah', 'duste_gamma', 'psi', 'psi1']\n",
    "a = []\n",
    "\n",
    "ii=0\n",
    "for file in os.listdir(directory):\n",
    "    filename = os.fsdecode(file)\n",
    "    \n",
    "    if filename.endswith(\".h5\"): \n",
    "        if ii<10:\n",
    "            result, obs, _  = reader.results_from(os.path.join(dire, filename), dangerous=False)\n",
    "\n",
    "            # Maximum posterior probability sample\n",
    "            imax = np.argmax(result['lnprobability'])\n",
    "            csz = result[\"chain\"].shape\n",
    "            # if result[\"chain\"].ndim > 2:\n",
    "            # emcee\n",
    "            i, j = np.unravel_index(imax, result['lnprobability'].shape)\n",
    "            theta_max = result['chain'][i, j, :].copy()\n",
    "            flatchain = result[\"chain\"].reshape(csz[0] * csz[1], csz[2])\n",
    "            #         else:\n",
    "            #     # dynesty\n",
    "            # theta_max = result['chain'][imax, :].copy()\n",
    "            # flatchain = result[\"chain\"]\n",
    "\n",
    "            # 16th, 50th, and 84th percentiles of the posterior\n",
    "\n",
    "            weights = result.get(\"weights\", None)\n",
    "            post_pcts = quantile(flatchain.T, q=[0.16, 0.50, 0.84], weights=weights)\n",
    "            #----------------------------------------------------------------------------------------\n",
    "            mass, dust, tage, tau, fagn, agn_tau, duste_umin, duste_qpah, duste_gamma = post_pcts[0,1],post_pcts[1,1],post_pcts[2,1],post_pcts[3,1],post_pcts[4,1],post_pcts[5,1],post_pcts[6,1],post_pcts[7,1],post_pcts[8,1]\n",
    "\n",
    "            #----------------------------------------------------------------------------------------\n",
    "            #We calculate the star formation rate using\n",
    "\n",
    "            tage, tau, mass = post_pcts[2,1], post_pcts[3,1], post_pcts[0,1]\n",
    "            # for delay tau this function gives the (unnormalized) SFR \n",
    "            # for any t, tau combo in M_sun/Gyr\n",
    "            # sfr = lambda t,tau: return (t/tau) * np.exp(-t/tau)\n",
    "\n",
    "            sfr = lambda t,tau:(t/tau) * np.exp(-t/tau)\n",
    "            # now we numerically integrate this SFH from 0 to tage to get the mass formed\n",
    "            \n",
    "            # times = np.linspace(0, tage, 1000)\n",
    "            # A = np.trapz(sfr(times, tau), times)\n",
    "            \n",
    "            # But this could also be done using an incomplete gamma function (integral of xe^{-x})\n",
    "            A = tau * gamma(2) * gammainc(2, tage/tau)\n",
    "            # and now we renormalize the formed mass to the actual mass value \n",
    "            # to get the the SFR in M_sun per Gyr \n",
    "            psi = mass * sfr(tage, tau) / A\n",
    "            # if we want SFR in Msun/year\n",
    "            psi1 = psi/1e9\n",
    "            print(filename)\n",
    "            row = mass, dust, tage, tau, fagn, agn_tau, duste_umin, duste_qpah, duste_gamma, psi, psi1\n",
    "            a.append(row)\n",
    "            cfig = reader.subcorner(result)\n",
    "    ii = ii+1\n",
    "        \n",
    "\n",
    "\n"
   ]
  },
  {
   "cell_type": "code",
   "execution_count": null,
   "id": "5cb379b1-ab6a-43cb-a3d4-16078bd3508d",
   "metadata": {},
   "outputs": [],
   "source": [
    "df"
   ]
  },
  {
   "cell_type": "code",
   "execution_count": null,
   "id": "5989fc5a-85e7-410b-8e62-9570288e2646",
   "metadata": {},
   "outputs": [],
   "source": [
    "bins = np.arange(-0.00000000000001,9, 5) # adjust as desired\n",
    "df['mean'] = df.groupby(pd.cut(df['mass'], bins, right=False)).mean()['mass']\n",
    "df['st_dev'] = df.groupby(pd.cut(df['mass'], bins, right=False)).std()['mass']\n"
   ]
  },
  {
   "cell_type": "code",
   "execution_count": null,
   "id": "0bce2e9d-79e3-4020-b0a9-5a38895d4f2d",
   "metadata": {},
   "outputs": [],
   "source": [
    "df"
   ]
  },
  {
   "cell_type": "code",
   "execution_count": null,
   "id": "62870c85-5969-4784-8b84-6f713069c3cb",
   "metadata": {},
   "outputs": [],
   "source": [
    "tage, tau, mass = post_pcts[2,1], post_pcts[3,1], post_pcts[0,1]\n",
    "# for delay tau this function gives the (unnormalized) SFR \n",
    "# for any t, tau combo in M_sun/Gyr\n",
    "# sfr = lambda t,tau: return (t/tau) * np.exp(-t/tau)\n",
    "\n",
    "sfr = lambda t,tau:(t/tau) * np.exp(-t/tau)\n",
    "# now we numerically integrate this SFH from 0 to tage to get the mass formed\n",
    "\n",
    "# times = np.linspace(0, tage, 1000)\n",
    "# A = np.trapz(sfr(times, tau), times)\n",
    "\n",
    "# But this could also be done using an incomplete gamma function (integral of xe^{-x})\n",
    "A = tau * gamma(2) * gammainc(2, tage/tau)\n",
    "# and now we renormalize the formed mass to the actual mass value \n",
    "# to get the the SFR in M_sun per Gyr \n",
    "psi = mass * sfr(tage, tau) / A\n",
    "# if we want SFR in Msun/year\n",
    "psi1 = psi/1e9"
   ]
  },
  {
   "cell_type": "code",
   "execution_count": null,
   "id": "98975ed0-5691-4b06-a8af-1c06ce52d603",
   "metadata": {},
   "outputs": [],
   "source": [
    "out_obs = obs\n",
    "out = result"
   ]
  },
  {
   "cell_type": "code",
   "execution_count": null,
   "id": "e14b7e7f-572f-4172-a68e-9e64ca6dc88c",
   "metadata": {},
   "outputs": [],
   "source": [
    "out"
   ]
  },
  {
   "cell_type": "code",
   "execution_count": null,
   "id": "9502d9d7-3e65-4fa4-9f69-6898b3f38e28",
   "metadata": {},
   "outputs": [],
   "source": [
    "import matplotlib.pyplot as pl\n",
    "sfig, saxes = pl.subplots(2, 1, gridspec_kw=dict(height_ratios=[1, 4]), sharex=True)\n",
    "ax = saxes[1]\n",
    "pwave = np.array([f.wave_effective for f in out_obs[\"filters\"]])\n",
    "# plot the data\n",
    "ax.plot(pwave, out_obs[\"maggies\"], linestyle=\"\", marker=\"o\", color=\"k\")\n",
    "ax.errorbar(pwave,  out_obs[\"maggies\"], out_obs[\"maggies_unc\"], linestyle=\"\", color=\"k\", zorder=10)\n",
    "ax.set_ylabel(r\"$f_\\nu$ (maggies)\")\n",
    "ax.set_xlabel(r\"$\\lambda$ (AA)\")\n",
    "ax.set_xlim(3e3, 1e4)\n",
    "ax.set_ylim(out_obs[\"maggies\"].min() * 0.1, out_obs[\"maggies\"].max() * 5)\n",
    "ax.set_yscale(\"log\")\n",
    "\n",
    "# get the best-fit SED\n",
    "bsed = out[\"bestfit\"]\n",
    "# ax.plot(bsed[\"restframe_wavelengths\"] * (1+out_obs[\"redshift\"]), bsed[\"spectrum\"], color=\"firebrick\", label=\"MAP sample\")\n",
    "ax.plot(pwave, bsed[\"photometry\"], linestyle=\"\", marker=\"s\", markersize=10, mec=\"orange\", mew=3, mfc=\"none\")\n",
    "\n",
    "ax = saxes[0]\n",
    "chi = (out_obs[\"maggies\"] - bsed[\"photometry\"]) / out_obs[\"maggies_unc\"]\n",
    "ax.plot(pwave, chi, linestyle=\"\", marker=\"o\", color=\"k\")\n",
    "ax.axhline(0, color=\"k\", linestyle=\":\")\n",
    "ax.set_ylim(-2, 2)\n",
    "ax.set_ylabel(r\"$\\chi_{\\rm best}$\")"
   ]
  },
  {
   "cell_type": "code",
   "execution_count": null,
   "id": "c151dde6-f626-48e7-b754-4335770f8a23",
   "metadata": {},
   "outputs": [],
   "source": [
    "out[\"bestfit\"]"
   ]
  },
  {
   "cell_type": "code",
   "execution_count": null,
   "id": "23f80d0e-112e-42b0-989f-3e33de5a1b93",
   "metadata": {},
   "outputs": [],
   "source": []
  },
  {
   "cell_type": "code",
   "execution_count": null,
   "id": "d50c1e65-1957-4637-8f1a-17e3359a86b3",
   "metadata": {},
   "outputs": [],
   "source": []
  }
 ],
 "metadata": {
  "kernelspec": {
   "display_name": "Python 3",
   "language": "python",
   "name": "python3"
  },
  "language_info": {
   "codemirror_mode": {
    "name": "ipython",
    "version": 3
   },
   "file_extension": ".py",
   "mimetype": "text/x-python",
   "name": "python",
   "nbconvert_exporter": "python",
   "pygments_lexer": "ipython3",
   "version": "3.7.13"
  }
 },
 "nbformat": 4,
 "nbformat_minor": 5
}
